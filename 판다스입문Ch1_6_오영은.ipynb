{
 "cells": [
  {
   "cell_type": "markdown",
   "metadata": {},
   "source": [
    "Chapter 02. 판다스 시작하기"
   ]
  },
  {
   "cell_type": "code",
   "execution_count": 17,
   "metadata": {},
   "outputs": [],
   "source": [
    "# 2-1. 데이터 집합 불러오기\n",
    "import pandas as pd\n",
    "df = pd.read_csv('/Users/yeong-eun/Desktop/영은/쿠글/data/gapminder.tsv',sep='\\t')\n",
    "type(df) # 타입 확인\n",
    "# 행과 열의 크기 확인\n",
    "df.columns # 열 정보 확인\n",
    "df.dtypes # df 구성값 자료형\n",
    "\n",
    "# 2-2. 데이터 추출하기\n",
    "country_df = df['country'] # 열 단위 데이터 추출\n",
    "subset = df[['country','continent','year']]\n",
    "df.loc[0] # 데이터프레임의 인덱스 사용하여 데이터 추출\n",
    "df.tail(n=1) # 마지막 행 추출\n",
    "df.iloc[1] # 데이터 순서를 의미하는 행 번호 사용 # 음수도 가능\n",
    "subset = df.loc[:,['year','pop']] # 슬라이싱 구문 데이터 추출\n",
    "subset.head()\n",
    "small_range = list(range(3,6))\n",
    "\n",
    "# 2-3. 기초적인 통계 계산하기\n",
    "df.groupby('year')['lifeExp'].mean() # 연도별 lifeExp 열의 평균 계산 -> year 그룹화하여 lifeExp 평균 계산\n",
    "df.groupby('continent')['country'].nunique() #그룹화한 데이터 개수 세기 -> '빈도수'\n",
    "\n",
    "# 2-4. 그래프 그리기\n",
    "import matplotlib.pyplot as plt\n",
    "global_yearly_life_expectancy = df.groupby('year')['lifeExp'].mean()\n",
    "#global_yearly_life_expectancy.plot()\n"
   ]
  },
  {
   "cell_type": "markdown",
   "metadata": {},
   "source": [
    "Chapter 03. 판다스 데이터프레임과 시리즈"
   ]
  },
  {
   "cell_type": "code",
   "execution_count": 54,
   "metadata": {},
   "outputs": [],
   "source": [
    "# 3-1. 나만의 데이터 만들기\n",
    "# 시리즈 만들기\n",
    "s = pd.Series(['banana','42'])\n",
    "s = pd.Series(['A','B'],index=['1','2'])\n",
    "# 데이터프레임 만들기\n",
    "scientists = pd.DataFrame({'Name':['A','B'],'Age':[15,20]},index=['ㄱ','ㄴ'],columns=['Name','Age'])\n",
    "\n",
    "# 3-2. 시리즈 다루기 - 기초\n",
    "row1 = scientists.loc['ㄴ']\n",
    "row1.index[0] # 시리즈 인덱스\n",
    "row1.values # 시리즈 데이터\n",
    "row1.keys()[0] # 시리즈 인덱스\n",
    "ages = scientists['Age']\n",
    "ages.mean()\n",
    "ages.min()\n",
    "ages.max()\n",
    "ages.std()\n",
    "\n",
    "# 3-3. 시리즈 다루기 - 응용\n",
    "scientists = pd.read_csv('/Users/yeong-eun/Desktop/영은/쿠글/data/scientists.csv')\n",
    "ages = scientists['Age']\n",
    "ages[ages>ages.mean()] # 불린 추출 사용 -> 평균 나이보다 나이가 많은 사람의 데이터 추출\n",
    "# 브로드캐스팅: 시리즈나 데이터프레임의 모든 데이터를 한 번에 연산하는 것\n",
    "# 벡터: 여러 개의 값을 가진 데이터\n",
    "# 스칼라: 단순 크기를 나타내는 데이터\n",
    "# 길이가 서로 다른 벡터를 연산 -> NAN\n",
    "rev_ages = ages.sort_values(ascending=False) # 인덱스 역순 데이터 정렬\n",
    "ages + rev_ages # 벡터와 벡터의 연산은 일치하는 인덱스의 값끼리 수행\n",
    "\n",
    "# 3-4. 데이터프레임 다루기\n",
    "scientists[scientists['Age'] > scientists['Age'].mean()] # 불린 추출\n",
    "scientists*2 # 브로드캐스팅\n",
    "\n",
    "# 3-5. 시리즈와 데이터프레임의 데이터 처리하기\n",
    "scientists['Born'].dtype\n",
    "scientists['Born'] = pd.to_datetime(scientists['Born'], format= '%Y-%m-%d')\n",
    "scientists['Died'] = pd.to_datetime(scientists['Died'], format= '%Y-%m-%d')    \n",
    "scientists['ages_days_dt'] = scientists['Died']-scientists['Born']\n",
    "import random\n",
    "random.seed(42)\n",
    "#random.shuffle(scientists['Age']) # Age 열 데이터 섞기\n",
    "scientists2 = scientists.drop(['Age'],axis=1) # 열 삭제\n",
    "\n",
    "# 3-6. 데이터 저장하고 불러오기\n",
    "# 피클로 저장\n",
    "names = scientists['Name']\n",
    "# names.to_picke('names.pickle')\n",
    "# pd.read_pickle('')\n",
    "# names.to_csv('names.csv')\n",
    "# pd.read_csv('')"
   ]
  },
  {
   "cell_type": "markdown",
   "metadata": {},
   "source": [
    "Chapter 04. 그래프 그리기"
   ]
  },
  {
   "cell_type": "code",
   "execution_count": 67,
   "metadata": {},
   "outputs": [
    {
     "data": {
      "text/plain": [
       "'\\n# plt.plot(dataset1[\\'x\\'],dataset1[\\'y\\'],\\'o\\')\\ndataset2 = anscombe[anscombe[\\'dataset\\'] == \\'II\\']\\ndataset3 = anscombe[anscombe[\\'dataset\\'] == \\'III\\']\\ndataset4 = anscombe[anscombe[\\'dataset\\'] == \\'IV\\']\\nfig = plt.figure()\\naxes1 = fig.add_subplot(2,2,1)\\naxes2 = fig.add_subplot(2,2,2)\\naxes3 = fig.add_subplot(2,2,3)\\naxes4 = fig.add_subplot(2,2,4)\\naxes1.plot(dataset1[\\'x\\'], dataset1[\\'y\\'], \\'o\\')\\naxes2.plot(dataset2[\\'x\\'], dataset2[\\'y\\'], \\'o\\')\\naxes3.plot(dataset3[\\'x\\'], dataset3[\\'y\\'], \\'o\\')\\naxes4.plot(dataset4[\\'x\\'], dataset4[\\'y\\'], \\'o\\')\\naxes1.set_title(\"dataset1\")\\naxes2.set_title(\"dataset2\")\\naxes3.set_title(\"dataset3\")\\naxes4.set_title(\"dataset4\")\\nfig.suptitle(\"Anscombe Data\")\\nfig.tight_layout()\\n'"
      ]
     },
     "execution_count": 67,
     "metadata": {},
     "output_type": "execute_result"
    }
   ],
   "source": [
    "# 4-1. 데이터 시각화\n",
    "import seaborn as sns\n",
    "anscombe = sns.load_dataset(\"anscombe\")\n",
    "dataset1 = anscombe[anscombe['dataset']=='I']\n",
    "'''\n",
    "# plt.plot(dataset1['x'],dataset1['y'],'o')\n",
    "dataset2 = anscombe[anscombe['dataset'] == 'II']\n",
    "dataset3 = anscombe[anscombe['dataset'] == 'III']\n",
    "dataset4 = anscombe[anscombe['dataset'] == 'IV']\n",
    "fig = plt.figure()\n",
    "axes1 = fig.add_subplot(2,2,1)\n",
    "axes2 = fig.add_subplot(2,2,2)\n",
    "axes3 = fig.add_subplot(2,2,3)\n",
    "axes4 = fig.add_subplot(2,2,4)\n",
    "axes1.plot(dataset1['x'], dataset1['y'], 'o')\n",
    "axes2.plot(dataset2['x'], dataset2['y'], 'o')\n",
    "axes3.plot(dataset3['x'], dataset3['y'], 'o')\n",
    "axes4.plot(dataset4['x'], dataset4['y'], 'o')\n",
    "axes1.set_title(\"dataset1\")\n",
    "axes2.set_title(\"dataset2\")\n",
    "axes3.set_title(\"dataset3\")\n",
    "axes4.set_title(\"dataset4\")\n",
    "fig.suptitle(\"Anscombe Data\")\n",
    "fig.tight_layout()\n",
    "'''\n",
    "\n",
    "# 4-2. matplotlib 라이브러리 자유자재로 사용하기\n",
    "# hist -> 히스토그램\n",
    "# scatter -> 산점도\n",
    "# boxplot -> 상자그림"
   ]
  },
  {
   "cell_type": "code",
   "execution_count": 78,
   "metadata": {},
   "outputs": [],
   "source": [
    "# 5. 데이터 연결하기\n",
    "# 5-2. 데이터 연결 기초\n",
    "df1 = pd.read_csv('/Users/yeong-eun/Desktop/영은/쿠글/data/concat_1.csv')\n",
    "df2 = pd.read_csv('/Users/yeong-eun/Desktop/영은/쿠글/data/concat_2.csv')\n",
    "df3 = pd.read_csv('/Users/yeong-eun/Desktop/영은/쿠글/data/concat_3.csv')\n",
    "concat = pd.concat([df1,df2,df3]) # df\n",
    "new_row_series = pd.Series(['n1', 'n2', 'n3', 'n4']) # series\n",
    "pd.concat([df1, new_row_series]) # 행이 아닌 열로 추가 됨 -> NaN\n",
    "new_row_df=pd.DataFrame([['n1', 'n2', 'n3', 'n4']], columns=['A', 'B', 'C', 'D'])\n",
    "pd.concat([df1, new_row_df]) # 한 번에 2개 이상의 df 연결\n",
    "\n",
    "# 5-3. 데이터 연결 마무리\n",
    "p = pd.read_csv('/Users/yeong-eun/Desktop/영은/쿠글/data/survey_person.csv')\n",
    "s = pd.read_csv('/Users/yeong-eun/Desktop/영은/쿠글/data/survey_site.csv')\n",
    "sur = pd.read_csv('/Users/yeong-eun/Desktop/영은/쿠글/data/survey_survey.csv')\n",
    "v = pd.read_csv('/Users/yeong-eun/Desktop/영은/쿠글/data/survey_visited.csv')\n",
    "v2 = v.loc[[0, 2, 6],]\n",
    "sp = p.merge(sur, left_on='ident', right_on='person')"
   ]
  },
  {
   "cell_type": "code",
   "execution_count": 102,
   "metadata": {},
   "outputs": [
    {
     "data": {
      "text/plain": [
       "84729.0"
      ]
     },
     "execution_count": 102,
     "metadata": {},
     "output_type": "execute_result"
    }
   ],
   "source": [
    "import numpy as np\n",
    "# 6. 누락값 처리하기\n",
    "ebola =pd.read_csv('/Users/yeong-eun/Desktop/영은/쿠글/data/country_timeseries.csv')\n",
    "ebola.count()\n",
    "num_rows = ebola.shape[0]\n",
    "num_missing = num_rows - ebola.count()\n",
    "np.count_nonzero(ebola.isnull())\n",
    "np.count_nonzero(ebola['Cases_Guinea'].isnull())\n",
    "ebola.Cases_Guinea.value_counts(dropna=False) # 지정한 열의 빈도 구하기\n",
    "# 누락값 변경하기\n",
    "ebola.fillna(0).iloc[0:10,0:5]\n",
    "ebola.fillna(method='ffill').iloc[0:10,0:5] # 누락값이 나타나기 전의 값으로 누락값이 변경됨\n",
    "ebola.fillna(method='bfill').iloc[0:10,0:5] #누락값이 나타난 이후의 첫번째 값으로 앞쪽의 누락값이 모두 변경됨\n",
    "ebola.interpolate().iloc[0:10,0:5] #누락값 양쪽에 있는 값을 이용하여 중간값을 구한 다음 누락값 처리\n",
    "ebola.shape # 데이터 구조 개수 확인\n",
    "ebola_dropna = ebola.dropna()\n",
    "ebola_dropna.shape # 데이터 개수 줄어듦\n",
    "# 누락값이 포함된 데이터 계산하기\n",
    "ebola['Cases_multiple'] = ebola['Cases_Guinea'] + ebola['Cases_Liberia'] + ebola['Cases_SierraLeone'] #누락값 하나라도 있을시 NaN\n",
    "ebola_subset = ebola.loc[:, ['Cases_Guinea','Cases_Liberia','Cases_SierraLeone','Cases_multiple']]\n",
    "ebola.Cases_Guinea.sum(skipna = True)"
   ]
  },
  {
   "cell_type": "code",
   "execution_count": null,
   "metadata": {},
   "outputs": [],
   "source": []
  }
 ],
 "metadata": {
  "kernelspec": {
   "display_name": "base",
   "language": "python",
   "name": "python3"
  },
  "language_info": {
   "codemirror_mode": {
    "name": "ipython",
    "version": 3
   },
   "file_extension": ".py",
   "mimetype": "text/x-python",
   "name": "python",
   "nbconvert_exporter": "python",
   "pygments_lexer": "ipython3",
   "version": "3.11.5"
  }
 },
 "nbformat": 4,
 "nbformat_minor": 2
}
