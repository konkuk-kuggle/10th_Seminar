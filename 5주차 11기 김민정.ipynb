{
 "cells": [
  {
   "cell_type": "code",
   "execution_count": 5,
   "metadata": {},
   "outputs": [],
   "source": [
    "import pandas as pd\n",
    "\n",
    "# 1. 데이터 로드 및 기본 정보 확인\n",
    "# CSV 파일 불러오기\n",
    "df=pd.read_csv(\"C:/Users/82105/Desktop/KUGGLE/과제/tested.csv\")"
   ]
  },
  {
   "cell_type": "code",
   "execution_count": 7,
   "metadata": {},
   "outputs": [
    {
     "data": {
      "text/plain": [
       "Index(['PassengerId', 'Survived', 'Pclass', 'Name', 'Sex', 'Age', 'SibSp',\n",
       "       'Parch', 'Ticket', 'Fare', 'Cabin', 'Embarked'],\n",
       "      dtype='object')"
      ]
     },
     "execution_count": 7,
     "metadata": {},
     "output_type": "execute_result"
    }
   ],
   "source": [
    "# 피처 추출 (독립변수 확인해보기)\n",
    "df.columns"
   ]
  },
  {
   "cell_type": "code",
   "execution_count": 15,
   "metadata": {},
   "outputs": [
    {
     "data": {
      "text/html": [
       "<div>\n",
       "<style scoped>\n",
       "    .dataframe tbody tr th:only-of-type {\n",
       "        vertical-align: middle;\n",
       "    }\n",
       "\n",
       "    .dataframe tbody tr th {\n",
       "        vertical-align: top;\n",
       "    }\n",
       "\n",
       "    .dataframe thead th {\n",
       "        text-align: right;\n",
       "    }\n",
       "</style>\n",
       "<table border=\"1\" class=\"dataframe\">\n",
       "  <thead>\n",
       "    <tr style=\"text-align: right;\">\n",
       "      <th></th>\n",
       "      <th>PassengerId</th>\n",
       "      <th>Survived</th>\n",
       "      <th>Pclass</th>\n",
       "      <th>Name</th>\n",
       "      <th>Sex</th>\n",
       "      <th>Age</th>\n",
       "      <th>SibSp</th>\n",
       "      <th>Parch</th>\n",
       "      <th>Ticket</th>\n",
       "      <th>Fare</th>\n",
       "      <th>Cabin</th>\n",
       "      <th>Embarked</th>\n",
       "    </tr>\n",
       "  </thead>\n",
       "  <tbody>\n",
       "    <tr>\n",
       "      <th>0</th>\n",
       "      <td>892</td>\n",
       "      <td>0</td>\n",
       "      <td>3</td>\n",
       "      <td>Kelly, Mr. James</td>\n",
       "      <td>male</td>\n",
       "      <td>34.5</td>\n",
       "      <td>0</td>\n",
       "      <td>0</td>\n",
       "      <td>330911</td>\n",
       "      <td>7.8292</td>\n",
       "      <td>NaN</td>\n",
       "      <td>Q</td>\n",
       "    </tr>\n",
       "    <tr>\n",
       "      <th>1</th>\n",
       "      <td>893</td>\n",
       "      <td>1</td>\n",
       "      <td>3</td>\n",
       "      <td>Wilkes, Mrs. James (Ellen Needs)</td>\n",
       "      <td>female</td>\n",
       "      <td>47.0</td>\n",
       "      <td>1</td>\n",
       "      <td>0</td>\n",
       "      <td>363272</td>\n",
       "      <td>7.0000</td>\n",
       "      <td>NaN</td>\n",
       "      <td>S</td>\n",
       "    </tr>\n",
       "    <tr>\n",
       "      <th>2</th>\n",
       "      <td>894</td>\n",
       "      <td>0</td>\n",
       "      <td>2</td>\n",
       "      <td>Myles, Mr. Thomas Francis</td>\n",
       "      <td>male</td>\n",
       "      <td>62.0</td>\n",
       "      <td>0</td>\n",
       "      <td>0</td>\n",
       "      <td>240276</td>\n",
       "      <td>9.6875</td>\n",
       "      <td>NaN</td>\n",
       "      <td>Q</td>\n",
       "    </tr>\n",
       "    <tr>\n",
       "      <th>3</th>\n",
       "      <td>895</td>\n",
       "      <td>0</td>\n",
       "      <td>3</td>\n",
       "      <td>Wirz, Mr. Albert</td>\n",
       "      <td>male</td>\n",
       "      <td>27.0</td>\n",
       "      <td>0</td>\n",
       "      <td>0</td>\n",
       "      <td>315154</td>\n",
       "      <td>8.6625</td>\n",
       "      <td>NaN</td>\n",
       "      <td>S</td>\n",
       "    </tr>\n",
       "    <tr>\n",
       "      <th>4</th>\n",
       "      <td>896</td>\n",
       "      <td>1</td>\n",
       "      <td>3</td>\n",
       "      <td>Hirvonen, Mrs. Alexander (Helga E Lindqvist)</td>\n",
       "      <td>female</td>\n",
       "      <td>22.0</td>\n",
       "      <td>1</td>\n",
       "      <td>1</td>\n",
       "      <td>3101298</td>\n",
       "      <td>12.2875</td>\n",
       "      <td>NaN</td>\n",
       "      <td>S</td>\n",
       "    </tr>\n",
       "  </tbody>\n",
       "</table>\n",
       "</div>"
      ],
      "text/plain": [
       "   PassengerId  Survived  Pclass  \\\n",
       "0          892         0       3   \n",
       "1          893         1       3   \n",
       "2          894         0       2   \n",
       "3          895         0       3   \n",
       "4          896         1       3   \n",
       "\n",
       "                                           Name     Sex   Age  SibSp  Parch  \\\n",
       "0                              Kelly, Mr. James    male  34.5      0      0   \n",
       "1              Wilkes, Mrs. James (Ellen Needs)  female  47.0      1      0   \n",
       "2                     Myles, Mr. Thomas Francis    male  62.0      0      0   \n",
       "3                              Wirz, Mr. Albert    male  27.0      0      0   \n",
       "4  Hirvonen, Mrs. Alexander (Helga E Lindqvist)  female  22.0      1      1   \n",
       "\n",
       "    Ticket     Fare Cabin Embarked  \n",
       "0   330911   7.8292   NaN        Q  \n",
       "1   363272   7.0000   NaN        S  \n",
       "2   240276   9.6875   NaN        Q  \n",
       "3   315154   8.6625   NaN        S  \n",
       "4  3101298  12.2875   NaN        S  "
      ]
     },
     "execution_count": 15,
     "metadata": {},
     "output_type": "execute_result"
    }
   ],
   "source": [
    "# 데이터프레임의 상위 5개 행을 출력하여 데이터의 기본 구조를 확인하시오.\n",
    "# (빈칸: df.______())\n",
    "df.head()"
   ]
  },
  {
   "cell_type": "code",
   "execution_count": 20,
   "metadata": {},
   "outputs": [
    {
     "name": "stdout",
     "output_type": "stream",
     "text": [
      "Family_Size\n",
      "0     253\n",
      "1      74\n",
      "2      57\n",
      "3      14\n",
      "4       7\n",
      "6       4\n",
      "10      4\n",
      "5       3\n",
      "7       2\n",
      "Name: count, dtype: int64\n"
     ]
    }
   ],
   "source": [
    "# 2. 피처 엔지니어링 1: 가족 수 변수 생성\n",
    "# SibSp (형제자매 / 배우자 수) + Parch (부모 / 자녀 수) 값을 더하여 새로운 가족 수 변수를 만드시오.\n",
    "# 변수 이름은 'Family_Size'로 지정하세요.\n",
    "df['Family_Size']=df['SibSp']+df['Parch']\n",
    "\n",
    "# Family_Size 변수의 분포를 확인하고, 전체적인 분포가 어떤지 설명하시오.\n",
    "print(df['Family_Size'].value_counts())\n",
    "#감소함"
   ]
  },
  {
   "cell_type": "code",
   "execution_count": 28,
   "metadata": {},
   "outputs": [
    {
     "name": "stdout",
     "output_type": "stream",
     "text": [
      "0     Mr\n",
      "1    Mrs\n",
      "2     Mr\n",
      "3     Mr\n",
      "4    Mrs\n",
      "Name: Title, dtype: object\n",
      "Title\n",
      "Mr        240\n",
      "Miss       78\n",
      "Mrs        72\n",
      "Master     21\n",
      "Col         2\n",
      "Rev         2\n",
      "Ms          1\n",
      "Dr          1\n",
      "Dona        1\n",
      "Name: count, dtype: int64\n"
     ]
    }
   ],
   "source": [
    "# 3. 피처 엔지니어링 2: 이름에서 호칭 추출\n",
    "# 이름(`Name`)에서 Mr, Mrs, Miss 등 호칭을 추출하여 새로운 'Title' 변수를 생성하세요.\n",
    "# 힌트: 이름 문자열에서 콤마(,)와 점(.) 사이의 텍스트를 추출하면 됨.\n",
    "# (빈칸: df['Title'] = df['Name'].str.extract('_____', expand=False))\n",
    "df['Title']=df['Name'].str.extract('([A-Za-z]+)\\\\.', expand=False)\n",
    "# 생성된 Title 변수의 상위 5개 값을 출력하고, 다양한 호칭이 어떻게 구성되어 있는지 확인하세요.\n",
    "print(df['Title'].head())\n",
    "print(df['Title'].value_counts())"
   ]
  },
  {
   "cell_type": "code",
   "execution_count": 34,
   "metadata": {},
   "outputs": [
    {
     "name": "stdout",
     "output_type": "stream",
     "text": [
      "Age_Group\n",
      "Young_Adult    259\n",
      "Adult           94\n",
      "Teenager        29\n",
      "Child           25\n",
      "Senior          11\n",
      "Name: count, dtype: int64\n"
     ]
    }
   ],
   "source": [
    "# 4. 피처 엔지니어링 3: 나이 그룹화\n",
    "# Age 변수의 결측값을 중간값으로 채우고, 나이 범주를 나눠서 'Age_Group' 변수를 생성하세요.\n",
    "# 예: 0-12 (Child), 13-18 (Teenager), 19-35 (Young_Adult), 36-60 (Adult), 60 이상 (Senior)\n",
    "# (빈칸: df['Age'] = df['Age'].fillna(df['______.median()']))\n",
    "df['Age'] = df['Age'].fillna(df['Age'].median())\n",
    "# 나이를 그룹화하는 함수 작성\n",
    "\n",
    "\n",
    "# age_group 함수를 사용하여 새로운 'Age_Group' 변수 생성\n",
    "# (빈칸: df['Age_Group'] = df['Age'].apply(____))\n",
    "df['Age_Group'] = df['Age'].apply(lambda x: 'Child' if x<=12 else('Teenager' if x<=18 else('Young_Adult' if x<=35 else('Adult' if x<=60 else'Senior'))))\n",
    "# 생성된 Age_Group 변수의 분포를 확인하세요.\n",
    "# (빈칸: print(df['______'].value_counts()))\n",
    "print(df['Age_Group'].value_counts())"
   ]
  },
  {
   "cell_type": "code",
   "execution_count": 36,
   "metadata": {},
   "outputs": [
    {
     "name": "stdout",
     "output_type": "stream",
     "text": [
      "Fare_Bin\n",
      "(-0.001, 7.896]    114\n",
      "(14.454, 31.5]     105\n",
      "(31.5, 512.329]    102\n",
      "(7.896, 14.454]     96\n",
      "Name: count, dtype: int64\n"
     ]
    }
   ],
   "source": [
    "# 5. 피처 엔지니어링 4: 요금 범주화\n",
    "# Fare 변수를 기준으로 값이 높은 승객과 낮은 승객을 구분하기 위해 4개의 구간으로 나누어 'Fare_Bin' 변수를 생성하세요.\n",
    "# 힌트: pd.qcut() 함수를 사용하여 구간 나누기\n",
    "# (빈칸: df['Fare_Bin'] = pd.qcut(df['____'], _____))\n",
    "df['Fare_Bin'] = pd.qcut(df['Fare'], 4)\n",
    "# Fare_Bin 변수의 빈도를 출력하고, 값의 분포를 확인하세요.\n",
    "# (빈칸: print(df['______'].value_counts()))\n",
    "print(df['Fare_Bin'].value_counts())"
   ]
  },
  {
   "cell_type": "code",
   "execution_count": 38,
   "metadata": {},
   "outputs": [
    {
     "name": "stdout",
     "output_type": "stream",
     "text": [
      "Cabin_Known\n",
      "0    327\n",
      "1     91\n",
      "Name: count, dtype: int64\n"
     ]
    }
   ],
   "source": [
    "# 6. 피처 엔지니어링 5: 객실 여부\n",
    "# Cabin 변수가 결측인 경우와 아닌 경우를 구분하여 'Cabin_Known' 변수를 생성하세요.\n",
    "# Cabin 값이 존재하면 1, 결측이면 0으로 설정하세요.\n",
    "# (빈칸: df['Cabin_Known'] = df['Cabin'].notna().astype(____))\n",
    "df['Cabin_Known'] = df['Cabin'].notna().astype(int)\n",
    "\n",
    "# 생성된 Cabin_Known 변수의 빈도를 출력하고, 객실 여부와 생존율 간의 관계를 분석하세요.\n",
    "# (빈칸: print(df['______'].value_counts()))\n",
    "print(df['Cabin_Known'].value_counts())"
   ]
  },
  {
   "cell_type": "code",
   "execution_count": 46,
   "metadata": {},
   "outputs": [
    {
     "ename": "KeyError",
     "evalue": "\"None of [Index(['Embarked'], dtype='object')] are in the [columns]\"",
     "output_type": "error",
     "traceback": [
      "\u001b[1;31m---------------------------------------------------------------------------\u001b[0m",
      "\u001b[1;31mKeyError\u001b[0m                                  Traceback (most recent call last)",
      "Cell \u001b[1;32mIn[46], line 4\u001b[0m\n\u001b[0;32m      1\u001b[0m \u001b[38;5;66;03m# 7. 피처 엔지니어링 6: 승선 지역\u001b[39;00m\n\u001b[0;32m      2\u001b[0m \u001b[38;5;66;03m# 'Embarked' 변수를 더미 변수로 변환하여 승선 지역(S, C, Q)을 기준으로 각각의 더미 변수를 생성하세요.\u001b[39;00m\n\u001b[0;32m      3\u001b[0m \u001b[38;5;66;03m# (빈칸: df = pd.get_dummies(df, columns=['____'], drop_first=True))\u001b[39;00m\n\u001b[1;32m----> 4\u001b[0m df \u001b[38;5;241m=\u001b[39m pd\u001b[38;5;241m.\u001b[39mget_dummies(df, columns\u001b[38;5;241m=\u001b[39m[\u001b[38;5;124m'\u001b[39m\u001b[38;5;124mEmbarked\u001b[39m\u001b[38;5;124m'\u001b[39m], drop_first\u001b[38;5;241m=\u001b[39m\u001b[38;5;28;01mTrue\u001b[39;00m)\n\u001b[0;32m      5\u001b[0m \u001b[38;5;66;03m# 변환된 데이터프레임의 상위 5개 행을 출력하여 더미 변수 생성 결과를 확인하세요.\u001b[39;00m\n\u001b[0;32m      6\u001b[0m \u001b[38;5;66;03m# (빈칸: df.______())\u001b[39;00m\n\u001b[0;32m      7\u001b[0m df\u001b[38;5;241m.\u001b[39mhead()\n",
      "File \u001b[1;32m~\\anaconda3\\Lib\\site-packages\\pandas\\core\\reshape\\encoding.py:169\u001b[0m, in \u001b[0;36mget_dummies\u001b[1;34m(data, prefix, prefix_sep, dummy_na, columns, sparse, drop_first, dtype)\u001b[0m\n\u001b[0;32m    167\u001b[0m     \u001b[38;5;28;01mraise\u001b[39;00m \u001b[38;5;167;01mTypeError\u001b[39;00m(\u001b[38;5;124m\"\u001b[39m\u001b[38;5;124mInput must be a list-like for parameter `columns`\u001b[39m\u001b[38;5;124m\"\u001b[39m)\n\u001b[0;32m    168\u001b[0m \u001b[38;5;28;01melse\u001b[39;00m:\n\u001b[1;32m--> 169\u001b[0m     data_to_encode \u001b[38;5;241m=\u001b[39m data[columns]\n\u001b[0;32m    171\u001b[0m \u001b[38;5;66;03m# validate prefixes and separator to avoid silently dropping cols\u001b[39;00m\n\u001b[0;32m    172\u001b[0m \u001b[38;5;28;01mdef\u001b[39;00m \u001b[38;5;21mcheck_len\u001b[39m(item, name: \u001b[38;5;28mstr\u001b[39m):\n",
      "File \u001b[1;32m~\\anaconda3\\Lib\\site-packages\\pandas\\core\\frame.py:4108\u001b[0m, in \u001b[0;36mDataFrame.__getitem__\u001b[1;34m(self, key)\u001b[0m\n\u001b[0;32m   4106\u001b[0m     \u001b[38;5;28;01mif\u001b[39;00m is_iterator(key):\n\u001b[0;32m   4107\u001b[0m         key \u001b[38;5;241m=\u001b[39m \u001b[38;5;28mlist\u001b[39m(key)\n\u001b[1;32m-> 4108\u001b[0m     indexer \u001b[38;5;241m=\u001b[39m \u001b[38;5;28mself\u001b[39m\u001b[38;5;241m.\u001b[39mcolumns\u001b[38;5;241m.\u001b[39m_get_indexer_strict(key, \u001b[38;5;124m\"\u001b[39m\u001b[38;5;124mcolumns\u001b[39m\u001b[38;5;124m\"\u001b[39m)[\u001b[38;5;241m1\u001b[39m]\n\u001b[0;32m   4110\u001b[0m \u001b[38;5;66;03m# take() does not accept boolean indexers\u001b[39;00m\n\u001b[0;32m   4111\u001b[0m \u001b[38;5;28;01mif\u001b[39;00m \u001b[38;5;28mgetattr\u001b[39m(indexer, \u001b[38;5;124m\"\u001b[39m\u001b[38;5;124mdtype\u001b[39m\u001b[38;5;124m\"\u001b[39m, \u001b[38;5;28;01mNone\u001b[39;00m) \u001b[38;5;241m==\u001b[39m \u001b[38;5;28mbool\u001b[39m:\n",
      "File \u001b[1;32m~\\anaconda3\\Lib\\site-packages\\pandas\\core\\indexes\\base.py:6200\u001b[0m, in \u001b[0;36mIndex._get_indexer_strict\u001b[1;34m(self, key, axis_name)\u001b[0m\n\u001b[0;32m   6197\u001b[0m \u001b[38;5;28;01melse\u001b[39;00m:\n\u001b[0;32m   6198\u001b[0m     keyarr, indexer, new_indexer \u001b[38;5;241m=\u001b[39m \u001b[38;5;28mself\u001b[39m\u001b[38;5;241m.\u001b[39m_reindex_non_unique(keyarr)\n\u001b[1;32m-> 6200\u001b[0m \u001b[38;5;28mself\u001b[39m\u001b[38;5;241m.\u001b[39m_raise_if_missing(keyarr, indexer, axis_name)\n\u001b[0;32m   6202\u001b[0m keyarr \u001b[38;5;241m=\u001b[39m \u001b[38;5;28mself\u001b[39m\u001b[38;5;241m.\u001b[39mtake(indexer)\n\u001b[0;32m   6203\u001b[0m \u001b[38;5;28;01mif\u001b[39;00m \u001b[38;5;28misinstance\u001b[39m(key, Index):\n\u001b[0;32m   6204\u001b[0m     \u001b[38;5;66;03m# GH 42790 - Preserve name from an Index\u001b[39;00m\n",
      "File \u001b[1;32m~\\anaconda3\\Lib\\site-packages\\pandas\\core\\indexes\\base.py:6249\u001b[0m, in \u001b[0;36mIndex._raise_if_missing\u001b[1;34m(self, key, indexer, axis_name)\u001b[0m\n\u001b[0;32m   6247\u001b[0m \u001b[38;5;28;01mif\u001b[39;00m nmissing:\n\u001b[0;32m   6248\u001b[0m     \u001b[38;5;28;01mif\u001b[39;00m nmissing \u001b[38;5;241m==\u001b[39m \u001b[38;5;28mlen\u001b[39m(indexer):\n\u001b[1;32m-> 6249\u001b[0m         \u001b[38;5;28;01mraise\u001b[39;00m \u001b[38;5;167;01mKeyError\u001b[39;00m(\u001b[38;5;124mf\u001b[39m\u001b[38;5;124m\"\u001b[39m\u001b[38;5;124mNone of [\u001b[39m\u001b[38;5;132;01m{\u001b[39;00mkey\u001b[38;5;132;01m}\u001b[39;00m\u001b[38;5;124m] are in the [\u001b[39m\u001b[38;5;132;01m{\u001b[39;00maxis_name\u001b[38;5;132;01m}\u001b[39;00m\u001b[38;5;124m]\u001b[39m\u001b[38;5;124m\"\u001b[39m)\n\u001b[0;32m   6251\u001b[0m     not_found \u001b[38;5;241m=\u001b[39m \u001b[38;5;28mlist\u001b[39m(ensure_index(key)[missing_mask\u001b[38;5;241m.\u001b[39mnonzero()[\u001b[38;5;241m0\u001b[39m]]\u001b[38;5;241m.\u001b[39munique())\n\u001b[0;32m   6252\u001b[0m     \u001b[38;5;28;01mraise\u001b[39;00m \u001b[38;5;167;01mKeyError\u001b[39;00m(\u001b[38;5;124mf\u001b[39m\u001b[38;5;124m\"\u001b[39m\u001b[38;5;132;01m{\u001b[39;00mnot_found\u001b[38;5;132;01m}\u001b[39;00m\u001b[38;5;124m not in index\u001b[39m\u001b[38;5;124m\"\u001b[39m)\n",
      "\u001b[1;31mKeyError\u001b[0m: \"None of [Index(['Embarked'], dtype='object')] are in the [columns]\""
     ]
    }
   ],
   "source": [
    "# 7. 피처 엔지니어링 6: 승선 지역\n",
    "# 'Embarked' 변수를 더미 변수로 변환하여 승선 지역(S, C, Q)을 기준으로 각각의 더미 변수를 생성하세요.\n",
    "# (빈칸: df = pd.get_dummies(df, columns=['____'], drop_first=True))\n",
    "df = pd.get_dummies(df, columns=['Embarked'], drop_first=True)\n",
    "# 변환된 데이터프레임의 상위 5개 행을 출력하여 더미 변수 생성 결과를 확인하세요.\n",
    "# (빈칸: df.______())\n",
    "df.head()"
   ]
  },
  {
   "cell_type": "markdown",
   "metadata": {},
   "source": [
    "## 문제"
   ]
  },
  {
   "cell_type": "markdown",
   "metadata": {},
   "source": [
    "### 1. 피처엔지니어링을 통해 기대할 수 있는 효과는 무엇인지 설명하시오."
   ]
  },
  {
   "cell_type": "markdown",
   "metadata": {},
   "source": [
    "1.모델 성능 향상 : 피처를 생성하고 변환함으로써 정확도를 높이고 불필요한 피처를 삭제함으로써 모델의 복잡도를 감소시킬 수 있다.\n",
    "2.과적합 방지 : 정규화 효과로 특정 모델에 지나치게 의존하지 않도록 한다.\n",
    "3.데이터 활용 효율성 증대 : 차원을 축소시키고 결측치나 이상치를 다룸으로써 성능을 향상시킨다."
   ]
  },
  {
   "cell_type": "markdown",
   "metadata": {},
   "source": [
    "### 2. 새로 생성한 변수에 대해 간단히 설명하고 모델의 성능이 향상된다면 그 이유가 무엇일지 설명하시오."
   ]
  },
  {
   "cell_type": "markdown",
   "metadata": {},
   "source": [
    "Family_Size: SibSp (형제자매 / 배우자 수) + Parch (부모 / 자녀 수)으로 승객의 가족 크기를 나타낸다. 따라서 가족의 크기에 따른 생존율을 분석할 수 있다.\n",
    "\n",
    "피처 엔지니어링을 통해 데이터 속 의미있는 정보를 만들어내었고, 그렇게 만들어진 변수들 생존에 미치는 영향에 대해 분석할 수 있도록 도와주며 결과적으로 모델 선능 향상에 도움을 줍니다."
   ]
  }
 ],
 "metadata": {
  "kernelspec": {
   "display_name": "Python 3 (ipykernel)",
   "language": "python",
   "name": "python3"
  },
  "language_info": {
   "codemirror_mode": {
    "name": "ipython",
    "version": 3
   },
   "file_extension": ".py",
   "mimetype": "text/x-python",
   "name": "python",
   "nbconvert_exporter": "python",
   "pygments_lexer": "ipython3",
   "version": "3.12.4"
  }
 },
 "nbformat": 4,
 "nbformat_minor": 4
}
