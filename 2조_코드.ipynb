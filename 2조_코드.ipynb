{
 "cells": [
  {
   "cell_type": "code",
   "execution_count": 7,
   "metadata": {},
   "outputs": [
    {
     "name": "stdout",
     "output_type": "stream",
     "text": [
      "Collecting xgboost\n",
      "  Downloading xgboost-2.1.2-py3-none-macosx_12_0_arm64.whl.metadata (2.1 kB)\n",
      "Requirement already satisfied: numpy in /opt/anaconda3/lib/python3.12/site-packages (from xgboost) (1.26.4)\n",
      "Requirement already satisfied: scipy in /opt/anaconda3/lib/python3.12/site-packages (from xgboost) (1.13.1)\n",
      "Downloading xgboost-2.1.2-py3-none-macosx_12_0_arm64.whl (1.9 MB)\n",
      "\u001b[2K   \u001b[90m━━━━━━━━━━━━━━━━━━━━━━━━━━━━━━━━━━━━━━━━\u001b[0m \u001b[32m1.9/1.9 MB\u001b[0m \u001b[31m6.7 MB/s\u001b[0m eta \u001b[36m0:00:00\u001b[0m00:01\u001b[0m00:01\u001b[0m\n",
      "\u001b[?25hInstalling collected packages: xgboost\n",
      "Successfully installed xgboost-2.1.2\n",
      "Note: you may need to restart the kernel to use updated packages.\n"
     ]
    }
   ],
   "source": [
    "pip install xgboost"
   ]
  },
  {
   "cell_type": "code",
   "execution_count": 7,
   "metadata": {},
   "outputs": [
    {
     "name": "stdout",
     "output_type": "stream",
     "text": [
      "Index(['class', 'cap-diameter', 'cap-shape', 'cap-surface', 'cap-color',\n",
      "       'does-bruise-or-bleed', 'gill-attachment', 'gill-spacing', 'gill-color',\n",
      "       'stem-height', 'stem-width', 'stem-color', 'has-ring', 'ring-type',\n",
      "       'habitat', 'season', 'is_spring_or_fall'],\n",
      "      dtype='object')\n",
      "   class  cap-diameter cap-shape cap-surface cap-color does-bruise-or-bleed  \\\n",
      "0      0          8.80         f           s   Unknown                    f   \n",
      "1      1          4.51         x           h         o                    f   \n",
      "2      0          6.94         f           s   Unknown                    f   \n",
      "3      0          3.88         f           y         g                    f   \n",
      "4      0          5.85         x     Unknown         w                    f   \n",
      "\n",
      "  gill-attachment gill-spacing gill-color  stem-height  stem-width stem-color  \\\n",
      "0               a            c          w         4.51       15.39          w   \n",
      "1               a            c          n         4.79        6.48    Unknown   \n",
      "2               x            c          w         6.85        9.93          n   \n",
      "3               s      Unknown          g         4.16        6.53          w   \n",
      "4               d      Unknown          w         3.37        8.36          w   \n",
      "\n",
      "  has-ring ring-type habitat  season  is_spring_or_fall  \n",
      "0        f         f       d       0                  0  \n",
      "1        t   Unknown       d       3                  0  \n",
      "2        f         f       l       3                  0  \n",
      "3        f         f       d       2                  0  \n",
      "4        f         f       g       0                  0  \n"
     ]
    }
   ],
   "source": [
    "import pandas as pd\n",
    "\n",
    "# 데이터 불러오기\n",
    "train_data = pd.read_csv('processed_train_data.csv')\n",
    "test_data = pd.read_csv('test.csv')\n",
    "\n",
    "# 열 이름과 상위 5개 데이터 확인\n",
    "print(train_data.columns)\n",
    "print(train_data.head())\n"
   ]
  },
  {
   "cell_type": "code",
   "execution_count": 8,
   "metadata": {},
   "outputs": [],
   "source": [
    "for col in train_data.select_dtypes(include='object').columns:\n",
    "    train_data[col] = train_data[col].astype('category')"
   ]
  },
  {
   "cell_type": "code",
   "execution_count": 9,
   "metadata": {},
   "outputs": [
    {
     "data": {
      "text/plain": [
       "class                      int64\n",
       "cap-diameter             float64\n",
       "cap-shape               category\n",
       "cap-surface             category\n",
       "cap-color               category\n",
       "does-bruise-or-bleed    category\n",
       "gill-attachment         category\n",
       "gill-spacing            category\n",
       "gill-color              category\n",
       "stem-height              float64\n",
       "stem-width               float64\n",
       "stem-color              category\n",
       "has-ring                category\n",
       "ring-type               category\n",
       "habitat                 category\n",
       "season                     int64\n",
       "is_spring_or_fall          int64\n",
       "dtype: object"
      ]
     },
     "execution_count": 9,
     "metadata": {},
     "output_type": "execute_result"
    }
   ],
   "source": [
    "train_data.dtypes"
   ]
  },
  {
   "cell_type": "code",
   "execution_count": 10,
   "metadata": {},
   "outputs": [],
   "source": [
    "X_train = train_data.drop(columns=['class'])\n",
    "Y_train = train_data['class']\n",
    "\n",
    "X_test = test_data"
   ]
  },
  {
   "cell_type": "markdown",
   "metadata": {},
   "source": [
    "### 카테고리형 처리"
   ]
  },
  {
   "cell_type": "code",
   "execution_count": 11,
   "metadata": {},
   "outputs": [
    {
     "name": "stdout",
     "output_type": "stream",
     "text": [
      "train score = 0.0\n"
     ]
    }
   ],
   "source": [
    "import xgboost as xgb\n",
    "\n",
    "# X_train과 X_test의 열을 일치시킴\n",
    "X_test = X_test.reindex(columns=X_train.columns, fill_value=0)\n",
    "\n",
    "# 모든 object 타입의 열을 category 타입으로 변환\n",
    "X_train = X_train.apply(lambda col: col.astype('category') if col.dtype == 'object' else col)\n",
    "X_test = X_test.apply(lambda col: col.astype('category') if col.dtype == 'object' else col)\n",
    "\n",
    "# DMatrix로 변환\n",
    "dtrain = xgb.DMatrix(X_train, label=Y_train, enable_categorical=True)\n",
    "dtest = xgb.DMatrix(X_test, enable_categorical=True)\n",
    "\n",
    "# 모델 훈련\n",
    "params = {\n",
    "    'objective': 'binary:logistic',  # 이진 분류\n",
    "    'tree_method': 'hist',  # enable_categorical=True와 호환 가능한 트리 방식\n",
    "}\n",
    "\n",
    "model = xgb.train(params, dtrain)\n",
    "\n",
    "# 예측\n",
    "Y_pred = model.predict(dtest)\n",
    "\n",
    "# 훈련 데이터의 score를 계산하려면\n",
    "train_pred = model.predict(dtrain)\n",
    "train_score = sum(train_pred == Y_train) / len(Y_train)\n",
    "print(\"train score =\", train_score)\n"
   ]
  },
  {
   "cell_type": "code",
   "execution_count": 11,
   "metadata": {},
   "outputs": [
    {
     "name": "stdout",
     "output_type": "stream",
     "text": [
      "[1. 1. 1. ... 1. 0. 1.]\n",
      "              id\n",
      "0        3116945\n",
      "1        3116946\n",
      "2        3116947\n",
      "3        3116948\n",
      "4        3116949\n",
      "...          ...\n",
      "2077959  5194904\n",
      "2077960  5194905\n",
      "2077961  5194906\n",
      "2077962  5194907\n",
      "2077963  5194908\n",
      "\n",
      "[2077964 rows x 1 columns]\n"
     ]
    }
   ],
   "source": [
    "id = pd.read_csv(\"sample_submission.csv\")\n",
    "id = id[['id']]\n",
    "print(Y_pred)\n",
    "print(id)"
   ]
  },
  {
   "cell_type": "code",
   "execution_count": 8,
   "metadata": {},
   "outputs": [],
   "source": [
    "# Y_pred를 1차원으로 변환\n",
    "Y_pred = Y_pred.flatten() \n",
    "# 예측 결과를 'e'와 'p'로 변환\n",
    "Y_pred = pd.Series(Y_pred).map({0: 'e', 1: 'p'})\n",
    "\n",
    "\n",
    "# DataFrame으로 변환\n",
    "results = pd.DataFrame({\n",
    "    \"id\": test_data['id'],  # test_data에서 id 열을 직접 사용\n",
    "    \"class\": Y_pred\n",
    "})\n",
    "\n"
   ]
  },
  {
   "cell_type": "code",
   "execution_count": 9,
   "metadata": {},
   "outputs": [],
   "source": [
    "results.head()\n",
    "\n",
    "# CSV 파일로 저장\n",
    "results.to_csv(\"submission.csv\", index=False)"
   ]
  },
  {
   "cell_type": "code",
   "execution_count": 10,
   "metadata": {},
   "outputs": [
    {
     "data": {
      "text/html": [
       "<div>\n",
       "<style scoped>\n",
       "    .dataframe tbody tr th:only-of-type {\n",
       "        vertical-align: middle;\n",
       "    }\n",
       "\n",
       "    .dataframe tbody tr th {\n",
       "        vertical-align: top;\n",
       "    }\n",
       "\n",
       "    .dataframe thead th {\n",
       "        text-align: right;\n",
       "    }\n",
       "</style>\n",
       "<table border=\"1\" class=\"dataframe\">\n",
       "  <thead>\n",
       "    <tr style=\"text-align: right;\">\n",
       "      <th></th>\n",
       "      <th>id</th>\n",
       "      <th>class</th>\n",
       "    </tr>\n",
       "  </thead>\n",
       "  <tbody>\n",
       "    <tr>\n",
       "      <th>0</th>\n",
       "      <td>3116945</td>\n",
       "      <td>p</td>\n",
       "    </tr>\n",
       "    <tr>\n",
       "      <th>1</th>\n",
       "      <td>3116946</td>\n",
       "      <td>p</td>\n",
       "    </tr>\n",
       "    <tr>\n",
       "      <th>2</th>\n",
       "      <td>3116947</td>\n",
       "      <td>p</td>\n",
       "    </tr>\n",
       "    <tr>\n",
       "      <th>3</th>\n",
       "      <td>3116948</td>\n",
       "      <td>p</td>\n",
       "    </tr>\n",
       "    <tr>\n",
       "      <th>4</th>\n",
       "      <td>3116949</td>\n",
       "      <td>p</td>\n",
       "    </tr>\n",
       "  </tbody>\n",
       "</table>\n",
       "</div>"
      ],
      "text/plain": [
       "        id class\n",
       "0  3116945     p\n",
       "1  3116946     p\n",
       "2  3116947     p\n",
       "3  3116948     p\n",
       "4  3116949     p"
      ]
     },
     "execution_count": 10,
     "metadata": {},
     "output_type": "execute_result"
    }
   ],
   "source": [
    "results.head()"
   ]
  },
  {
   "cell_type": "markdown",
   "metadata": {},
   "source": [
    "### 이진 분류"
   ]
  },
  {
   "cell_type": "code",
   "execution_count": 5,
   "metadata": {},
   "outputs": [
    {
     "name": "stdout",
     "output_type": "stream",
     "text": [
      "train score = 0.9732777543821429\n"
     ]
    }
   ],
   "source": [
    "import xgboost as xgb\n",
    "import pandas as pd\n",
    "\n",
    "# X_train과 X_test의 열을 일치시킴\n",
    "X_test = X_test.reindex(columns=X_train.columns, fill_value=0)\n",
    "\n",
    "# 모든 object 타입의 열을 category 타입으로 변환\n",
    "X_train = X_train.apply(lambda col: col.astype('category') if col.dtype == 'object' else col)\n",
    "X_test = X_test.apply(lambda col: col.astype('category') if col.dtype == 'object' else col)\n",
    "\n",
    "# DMatrix로 변환\n",
    "dtrain = xgb.DMatrix(X_train, label=Y_train, enable_categorical=True)\n",
    "dtest = xgb.DMatrix(X_test, enable_categorical=True)\n",
    "\n",
    "# 모델 훈련\n",
    "params = {\n",
    "    'objective': 'binary:logistic',  # 이진 분류\n",
    "    'tree_method': 'hist',  # enable_categorical=True와 호환 가능한 트리 방식\n",
    "}\n",
    "model = xgb.train(params, dtrain)\n",
    "\n",
    "# 예측\n",
    "Y_pred = model.predict(dtest)\n",
    "Y_pred = (Y_pred > 0.5).astype(int)  # 이진 예측 결과로 변환\n",
    "\n",
    "# 훈련 데이터의 score 계산\n",
    "train_pred = model.predict(dtrain)\n",
    "train_pred = (train_pred > 0.5).astype(int)  # 이진 예측 결과로 변환\n",
    "train_score = sum(train_pred == Y_train) / len(Y_train)\n",
    "print(\"train score =\", train_score)\n",
    "\n",
    "# 예측 결과를 'e'와 'p'로 변환\n",
    "Y_pred = pd.Series(Y_pred).map({0: 'e', 1: 'p'})\n",
    "\n",
    "# 결과를 DataFrame으로 저장\n",
    "results = pd.DataFrame({\n",
    "    \"id\": test_data['id'],  # test_data에서 id 열을 직접 사용\n",
    "    \"class\": Y_pred\n",
    "})\n",
    "\n",
    "# CSV 파일로 저장\n",
    "results.to_csv(\"submission.csv\", index=False)\n"
   ]
  },
  {
   "cell_type": "code",
   "execution_count": null,
   "metadata": {},
   "outputs": [],
   "source": []
  }
 ],
 "metadata": {
  "kernelspec": {
   "display_name": "base",
   "language": "python",
   "name": "python3"
  },
  "language_info": {
   "codemirror_mode": {
    "name": "ipython",
    "version": 3
   },
   "file_extension": ".py",
   "mimetype": "text/x-python",
   "name": "python",
   "nbconvert_exporter": "python",
   "pygments_lexer": "ipython3",
   "version": "3.12.4"
  }
 },
 "nbformat": 4,
 "nbformat_minor": 2
}
