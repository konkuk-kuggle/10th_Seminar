{
 "cells": [
  {
   "cell_type": "code",
   "execution_count": 1,
   "id": "2f85bcff",
   "metadata": {
    "execution": {
     "iopub.execute_input": "2024-08-19T17:21:58.130241Z",
     "iopub.status.busy": "2024-08-19T17:21:58.129910Z",
     "iopub.status.idle": "2024-08-19T17:22:06.111943Z",
     "shell.execute_reply": "2024-08-19T17:22:06.111157Z"
    },
    "executionInfo": {
     "elapsed": 10034,
     "status": "ok",
     "timestamp": 1724086520209,
     "user": {
      "displayName": "서현규",
      "userId": "09934118829180005969"
     },
     "user_tz": -540
    },
    "id": "g9qc-6wZIKSR",
    "papermill": {
     "duration": 7.992736,
     "end_time": "2024-08-19T17:22:06.114190",
     "exception": false,
     "start_time": "2024-08-19T17:21:58.121454",
     "status": "completed"
    },
    "tags": []
   },
   "outputs": [],
   "source": [
    "# 라이브러리 임포트\n",
    "import os\n",
    "import random\n",
    "from PIL import Image\n",
    "\n",
    "import numpy as np\n",
    "import pandas as pd\n",
    "\n",
    "import torch\n",
    "import torch.nn as nn\n",
    "from torch.utils.data import TensorDataset, DataLoader\n",
    "\n",
    "from tqdm import tqdm\n",
    "\n",
    "from sklearn.metrics import accuracy_score\n",
    "\n",
    "import torchvision\n",
    "from torchvision.models import VGG16_Weights\n",
    "from torchvision.transforms import v2"
   ]
  },
  {
   "cell_type": "code",
   "execution_count": 2,
   "id": "1c18af09",
   "metadata": {
    "execution": {
     "iopub.execute_input": "2024-08-19T17:22:06.130362Z",
     "iopub.status.busy": "2024-08-19T17:22:06.129919Z",
     "iopub.status.idle": "2024-08-19T17:22:06.134969Z",
     "shell.execute_reply": "2024-08-19T17:22:06.134037Z"
    },
    "executionInfo": {
     "elapsed": 10,
     "status": "ok",
     "timestamp": 1724086520209,
     "user": {
      "displayName": "서현규",
      "userId": "09934118829180005969"
     },
     "user_tz": -540
    },
    "id": "NwKDtuRfIKST",
    "papermill": {
     "duration": 0.015107,
     "end_time": "2024-08-19T17:22:06.136831",
     "exception": false,
     "start_time": "2024-08-19T17:22:06.121724",
     "status": "completed"
    },
    "tags": []
   },
   "outputs": [],
   "source": [
    "# 하이퍼파라미터\n",
    "args = {\n",
    "    \"train_path\" : \"/kaggle/input/2024-outta-basic-p-1/train.csv\",      # train 데이터 경로\n",
    "    \"test_path\" : \"/kaggle/input/2024-outta-basic-p-1/test.csv\",       # test 데이터 경로\n",
    "    \"submit_path\" : \"/kaggle/input/2024-outta-basic-p-1/sample_submission.csv\",     # submit 파일 경로\n",
    "    \"batch_size\" : 64,\n",
    "    \"epochs\" : 10,\n",
    "    \"lr\" : 2e-5,\n",
    "    \"seed_val\" : 42         # 절대 수정하지 마세요.\n",
    "}"
   ]
  },
  {
   "cell_type": "code",
   "execution_count": 3,
   "id": "5f3edb4c",
   "metadata": {
    "execution": {
     "iopub.execute_input": "2024-08-19T17:22:06.152383Z",
     "iopub.status.busy": "2024-08-19T17:22:06.152081Z",
     "iopub.status.idle": "2024-08-19T17:22:06.246603Z",
     "shell.execute_reply": "2024-08-19T17:22:06.245674Z"
    },
    "executionInfo": {
     "elapsed": 9,
     "status": "ok",
     "timestamp": 1724086520209,
     "user": {
      "displayName": "서현규",
      "userId": "09934118829180005969"
     },
     "user_tz": -540
    },
    "id": "nS3r6XxVIKST",
    "papermill": {
     "duration": 0.104951,
     "end_time": "2024-08-19T17:22:06.249023",
     "exception": false,
     "start_time": "2024-08-19T17:22:06.144072",
     "status": "completed"
    },
    "tags": []
   },
   "outputs": [],
   "source": [
    "# 랜덤시드 고정하기\n",
    "seed = args[\"seed_val\"]\n",
    "random.seed(seed)\n",
    "np.random.seed(seed)\n",
    "torch.manual_seed(seed)\n",
    "if torch.cuda.is_available() :\n",
    "    torch.cuda.manual_seed(seed)\n",
    "    torch.cuda.manual_seed_all(seed)\n",
    "torch.backends.cudnn.benchmark = False\n",
    "torch.backends.cudnn.deterministic = True\n",
    "\n",
    "# 디바이스 선택\n",
    "device = torch.device('cuda' if torch.cuda.is_available() else 'cpu')"
   ]
  },
  {
   "cell_type": "code",
   "execution_count": 4,
   "id": "223501cb",
   "metadata": {
    "execution": {
     "iopub.execute_input": "2024-08-19T17:22:06.264928Z",
     "iopub.status.busy": "2024-08-19T17:22:06.264626Z",
     "iopub.status.idle": "2024-08-19T17:22:20.028708Z",
     "shell.execute_reply": "2024-08-19T17:22:20.027520Z"
    },
    "executionInfo": {
     "elapsed": 6602,
     "status": "ok",
     "timestamp": 1724086526802,
     "user": {
      "displayName": "서현규",
      "userId": "09934118829180005969"
     },
     "user_tz": -540
    },
    "id": "-td0PcS_IKSU",
    "outputId": "5f71db9a-17a4-4b95-ae78-b86b728950cd",
    "papermill": {
     "duration": 13.774472,
     "end_time": "2024-08-19T17:22:20.030945",
     "exception": false,
     "start_time": "2024-08-19T17:22:06.256473",
     "status": "completed"
    },
    "tags": []
   },
   "outputs": [
    {
     "name": "stdout",
     "output_type": "stream",
     "text": [
      "Collecting torchsummary\r\n",
      "  Downloading torchsummary-1.5.1-py3-none-any.whl.metadata (296 bytes)\r\n",
      "Downloading torchsummary-1.5.1-py3-none-any.whl (2.8 kB)\r\n",
      "Installing collected packages: torchsummary\r\n",
      "Successfully installed torchsummary-1.5.1\r\n",
      "Note: you may need to restart the kernel to use updated packages.\n"
     ]
    }
   ],
   "source": [
    "%pip install torchsummary ## model을 요약하기 위해 torchsummary 설치\n",
    "from torchsummary import summary as summary_## 모델 정보를 확인하기 위해 torchsummary 함수 import\n",
    "\n",
    "## 모델의 형태를 출력하기 위한 함수\n",
    "def summary_model(model, input_shape=(3,32,32)):\n",
    "    model = model.to(device)\n",
    "    summary_(model, input_shape) ## (model, (input shape))"
   ]
  },
  {
   "cell_type": "markdown",
   "id": "9371c6df",
   "metadata": {
    "id": "je4ZWTi8IKSU",
    "papermill": {
     "duration": 0.007455,
     "end_time": "2024-08-19T17:22:20.046437",
     "exception": false,
     "start_time": "2024-08-19T17:22:20.038982",
     "status": "completed"
    },
    "tags": []
   },
   "source": [
    "# **1. 데이터셋**"
   ]
  },
  {
   "cell_type": "markdown",
   "id": "27368e7a",
   "metadata": {
    "id": "z3DQW-h_IKSV",
    "papermill": {
     "duration": 0.007357,
     "end_time": "2024-08-19T17:22:20.061419",
     "exception": false,
     "start_time": "2024-08-19T17:22:20.054062",
     "status": "completed"
    },
    "tags": []
   },
   "source": [
    "## **(1) 데이터 불러오기 및 전처리**"
   ]
  },
  {
   "cell_type": "code",
   "execution_count": 5,
   "id": "ef1abdbc",
   "metadata": {
    "execution": {
     "iopub.execute_input": "2024-08-19T17:22:20.078575Z",
     "iopub.status.busy": "2024-08-19T17:22:20.077912Z",
     "iopub.status.idle": "2024-08-19T17:22:24.947560Z",
     "shell.execute_reply": "2024-08-19T17:22:24.946537Z"
    },
    "executionInfo": {
     "elapsed": 6338,
     "status": "ok",
     "timestamp": 1724086533137,
     "user": {
      "displayName": "서현규",
      "userId": "09934118829180005969"
     },
     "user_tz": -540
    },
    "id": "SSufNfEhPchZ",
    "papermill": {
     "duration": 4.880939,
     "end_time": "2024-08-19T17:22:24.949975",
     "exception": false,
     "start_time": "2024-08-19T17:22:20.069036",
     "status": "completed"
    },
    "tags": []
   },
   "outputs": [],
   "source": [
    "train = pd.read_csv(args['train_path'])\n",
    "test = pd.read_csv(args['test_path'])"
   ]
  },
  {
   "cell_type": "code",
   "execution_count": 6,
   "id": "357c08bd",
   "metadata": {
    "execution": {
     "iopub.execute_input": "2024-08-19T17:22:24.969025Z",
     "iopub.status.busy": "2024-08-19T17:22:24.968446Z",
     "iopub.status.idle": "2024-08-19T17:22:28.674398Z",
     "shell.execute_reply": "2024-08-19T17:22:28.673595Z"
    },
    "executionInfo": {
     "elapsed": 6248,
     "status": "ok",
     "timestamp": 1724086539382,
     "user": {
      "displayName": "서현규",
      "userId": "09934118829180005969"
     },
     "user_tz": -540
    },
    "id": "FjYMQg83IKSW",
    "papermill": {
     "duration": 3.717179,
     "end_time": "2024-08-19T17:22:28.676639",
     "exception": false,
     "start_time": "2024-08-19T17:22:24.959460",
     "status": "completed"
    },
    "tags": []
   },
   "outputs": [],
   "source": [
    "# 훈련 및 테스트 데이터 로드\n",
    "train = pd.read_csv(args['train_path'])\n",
    "test = pd.read_csv(args['test_path'])\n",
    "\n",
    "# (1-1) 훈련 데이터에서 특징(x_train)과 라벨(y_train) 분리\n",
    "x_train = train.drop(columns='label', axis=1)  # 첫 번째 열을 제외한 모든 열 (특징)\n",
    "y_train = train['label']  # 'label' 열 (라벨)\n",
    "x_test = test   # 테스트 데이터\n",
    "\n",
    "# (1-2) numpy 배열로 변환 후, torch Tensor로 변환\n",
    "x_train = torch.tensor(x_train.to_numpy(), dtype=torch.float32)\n",
    "y_train = torch.tensor(y_train.to_numpy(), dtype=torch.long)\n",
    "x_test = torch.tensor(x_test.to_numpy(), dtype=torch.float32)\n",
    "\n",
    "# (1-3) 데이터를 (N, H, W, C) 형태로 재구성 (reshape 함수 이용)\n",
    "x_train = np.reshape(x_train, (27455,28,28,1))\n",
    "x_test = np.reshape(x_test, (7172,28,28,1))\n",
    "\n",
    "# (1-4) 데이터를 (N, C, H, W) 형태로 변환 (permute 함수 이용)\n",
    "x_train = x_train.permute(0,3,1,2)\n",
    "x_test = x_test.permute(0,3,1,2)\n",
    "\n",
    "# (1-5) 데이터를 (N, 3, 28, 28) 형태로 변환 (expand 함수 이용)\n",
    "x_train = x_train.expand(-1,3,-1,-1)\n",
    "x_test = x_test.expand(-1,3,-1,-1)\n"
   ]
  },
  {
   "cell_type": "code",
   "execution_count": 7,
   "id": "3b920386",
   "metadata": {
    "execution": {
     "iopub.execute_input": "2024-08-19T17:22:28.693750Z",
     "iopub.status.busy": "2024-08-19T17:22:28.693463Z",
     "iopub.status.idle": "2024-08-19T17:22:28.698368Z",
     "shell.execute_reply": "2024-08-19T17:22:28.697289Z"
    },
    "executionInfo": {
     "elapsed": 12,
     "status": "ok",
     "timestamp": 1724086539383,
     "user": {
      "displayName": "서현규",
      "userId": "09934118829180005969"
     },
     "user_tz": -540
    },
    "id": "_q8AwfadjJcn",
    "outputId": "cc51ba6d-fd8c-4ff4-cc39-0cb4e24e68f1",
    "papermill": {
     "duration": 0.015492,
     "end_time": "2024-08-19T17:22:28.700261",
     "exception": false,
     "start_time": "2024-08-19T17:22:28.684769",
     "status": "completed"
    },
    "tags": []
   },
   "outputs": [
    {
     "name": "stdout",
     "output_type": "stream",
     "text": [
      "torch.Size([27455, 3, 28, 28])\n",
      "torch.Size([7172, 3, 28, 28])\n"
     ]
    }
   ],
   "source": [
    "print(x_train.shape)\n",
    "print(x_test.shape)"
   ]
  },
  {
   "cell_type": "markdown",
   "id": "ee197ca1",
   "metadata": {
    "id": "jaDATk_7IKSX",
    "papermill": {
     "duration": 0.007716,
     "end_time": "2024-08-19T17:22:28.715948",
     "exception": false,
     "start_time": "2024-08-19T17:22:28.708232",
     "status": "completed"
    },
    "tags": []
   },
   "source": [
    "## **(2) 데이터셋과 데이터로더**"
   ]
  },
  {
   "cell_type": "code",
   "execution_count": 8,
   "id": "7b67910e",
   "metadata": {
    "execution": {
     "iopub.execute_input": "2024-08-19T17:22:28.734019Z",
     "iopub.status.busy": "2024-08-19T17:22:28.733691Z",
     "iopub.status.idle": "2024-08-19T17:22:28.739514Z",
     "shell.execute_reply": "2024-08-19T17:22:28.738688Z"
    },
    "executionInfo": {
     "elapsed": 10,
     "status": "ok",
     "timestamp": 1724086539383,
     "user": {
      "displayName": "서현규",
      "userId": "09934118829180005969"
     },
     "user_tz": -540
    },
    "id": "0PgmiEd6IKSX",
    "papermill": {
     "duration": 0.017537,
     "end_time": "2024-08-19T17:22:28.741429",
     "exception": false,
     "start_time": "2024-08-19T17:22:28.723892",
     "status": "completed"
    },
    "tags": []
   },
   "outputs": [],
   "source": [
    "# 훈련 및 테스트 데이터셋 로드\n",
    "train_dataset = TensorDataset(x_train, y_train)\n",
    "test_dataset = TensorDataset(x_test)\n",
    "\n",
    "# 데이터로더 정의\n",
    "train_dataloader = torch.utils.data.DataLoader(train_dataset, batch_size=args[\"batch_size\"], shuffle=True)\n",
    "test_dataloader = torch.utils.data.DataLoader(test_dataset, batch_size=1, shuffle=False)"
   ]
  },
  {
   "cell_type": "markdown",
   "id": "2d94cab2",
   "metadata": {
    "id": "6Ia-6P8bIKSY",
    "papermill": {
     "duration": 0.007718,
     "end_time": "2024-08-19T17:22:28.757045",
     "exception": false,
     "start_time": "2024-08-19T17:22:28.749327",
     "status": "completed"
    },
    "tags": []
   },
   "source": [
    "# **2. 모델**\n",
    "사전학습된 VGG16을 사용하여 프로젝트를 수행하세요."
   ]
  },
  {
   "cell_type": "markdown",
   "id": "22c9bbd9",
   "metadata": {
    "id": "0icvdI-wIKSY",
    "papermill": {
     "duration": 0.007682,
     "end_time": "2024-08-19T17:22:28.772696",
     "exception": false,
     "start_time": "2024-08-19T17:22:28.765014",
     "status": "completed"
    },
    "tags": []
   },
   "source": [
    "## **(1) VGG16 특징 추출기를 불러오기**"
   ]
  },
  {
   "cell_type": "code",
   "execution_count": 9,
   "id": "69f2c334",
   "metadata": {
    "execution": {
     "iopub.execute_input": "2024-08-19T17:22:28.790079Z",
     "iopub.status.busy": "2024-08-19T17:22:28.789427Z",
     "iopub.status.idle": "2024-08-19T17:22:34.630928Z",
     "shell.execute_reply": "2024-08-19T17:22:34.629984Z"
    },
    "executionInfo": {
     "elapsed": 4912,
     "status": "ok",
     "timestamp": 1724086544285,
     "user": {
      "displayName": "서현규",
      "userId": "09934118829180005969"
     },
     "user_tz": -540
    },
    "id": "Ov492TD8IKSY",
    "outputId": "3ff07383-5058-4e44-94be-3d4db092fc1b",
    "papermill": {
     "duration": 5.852593,
     "end_time": "2024-08-19T17:22:34.633192",
     "exception": false,
     "start_time": "2024-08-19T17:22:28.780599",
     "status": "completed"
    },
    "tags": []
   },
   "outputs": [
    {
     "name": "stderr",
     "output_type": "stream",
     "text": [
      "Downloading: \"https://download.pytorch.org/models/vgg16-397923af.pth\" to /root/.cache/torch/hub/checkpoints/vgg16-397923af.pth\n",
      "100%|██████████| 528M/528M [00:03<00:00, 169MB/s]\n"
     ]
    },
    {
     "name": "stdout",
     "output_type": "stream",
     "text": [
      "----------------------------------------------------------------\n",
      "        Layer (type)               Output Shape         Param #\n",
      "================================================================\n",
      "            Conv2d-1           [-1, 64, 32, 32]           1,792\n",
      "              ReLU-2           [-1, 64, 32, 32]               0\n",
      "            Conv2d-3           [-1, 64, 32, 32]          36,928\n",
      "              ReLU-4           [-1, 64, 32, 32]               0\n",
      "         MaxPool2d-5           [-1, 64, 16, 16]               0\n",
      "            Conv2d-6          [-1, 128, 16, 16]          73,856\n",
      "              ReLU-7          [-1, 128, 16, 16]               0\n",
      "            Conv2d-8          [-1, 128, 16, 16]         147,584\n",
      "              ReLU-9          [-1, 128, 16, 16]               0\n",
      "        MaxPool2d-10            [-1, 128, 8, 8]               0\n",
      "           Conv2d-11            [-1, 256, 8, 8]         295,168\n",
      "             ReLU-12            [-1, 256, 8, 8]               0\n",
      "           Conv2d-13            [-1, 256, 8, 8]         590,080\n",
      "             ReLU-14            [-1, 256, 8, 8]               0\n",
      "           Conv2d-15            [-1, 256, 8, 8]         590,080\n",
      "             ReLU-16            [-1, 256, 8, 8]               0\n",
      "        MaxPool2d-17            [-1, 256, 4, 4]               0\n",
      "           Conv2d-18            [-1, 512, 4, 4]       1,180,160\n",
      "             ReLU-19            [-1, 512, 4, 4]               0\n",
      "           Conv2d-20            [-1, 512, 4, 4]       2,359,808\n",
      "             ReLU-21            [-1, 512, 4, 4]               0\n",
      "           Conv2d-22            [-1, 512, 4, 4]       2,359,808\n",
      "             ReLU-23            [-1, 512, 4, 4]               0\n",
      "        MaxPool2d-24            [-1, 512, 2, 2]               0\n",
      "           Conv2d-25            [-1, 512, 2, 2]       2,359,808\n",
      "             ReLU-26            [-1, 512, 2, 2]               0\n",
      "           Conv2d-27            [-1, 512, 2, 2]       2,359,808\n",
      "             ReLU-28            [-1, 512, 2, 2]               0\n",
      "           Conv2d-29            [-1, 512, 2, 2]       2,359,808\n",
      "             ReLU-30            [-1, 512, 2, 2]               0\n",
      "        MaxPool2d-31            [-1, 512, 1, 1]               0\n",
      "AdaptiveAvgPool2d-32            [-1, 512, 1, 1]               0\n",
      "================================================================\n",
      "Total params: 14,714,688\n",
      "Trainable params: 14,714,688\n",
      "Non-trainable params: 0\n",
      "----------------------------------------------------------------\n",
      "Input size (MB): 0.01\n",
      "Forward/backward pass size (MB): 4.46\n",
      "Params size (MB): 56.13\n",
      "Estimated Total Size (MB): 60.60\n",
      "----------------------------------------------------------------\n"
     ]
    }
   ],
   "source": [
    "# (3-1) VGG16 모델 로드 및 특징 추출 부분 사용\n",
    "# 가중치는 'VGG16_Weights.IMAGENET1K_V1' 사용하세요.\n",
    "model = torchvision.models.vgg16(weights='IMAGENET1K_V1').features\n",
    "\n",
    "# (3-2) 모델에 글로벌 평균 풀링 계층 추가\n",
    "model.global_avg_pool = nn.AdaptiveAvgPool2d((1, 1))\n",
    "\n",
    "# 모델 요약 정보 출력\n",
    "summary_model(model)"
   ]
  },
  {
   "cell_type": "markdown",
   "id": "099b3717",
   "metadata": {
    "id": "LyMLtAbQIKSY",
    "papermill": {
     "duration": 0.010816,
     "end_time": "2024-08-19T17:22:34.655331",
     "exception": false,
     "start_time": "2024-08-19T17:22:34.644515",
     "status": "completed"
    },
    "tags": []
   },
   "source": [
    "## **(2) VGG16 특징 추출기를 동결시키기**\n",
    "1. 계산 비용 절감:\n",
    "    - 모델의 일부 파라미터를 동결하면 그 부분은 학습되지 않기 때문에 계산량이 줄어듭니다.\n",
    "\n",
    "    - 이는 학습 속도를 빠르게 하고, GPU 메모리 사용량을 줄이는 데 도움이 됩니다.\n",
    "\n",
    "2. 오버피팅 방지:\n",
    "    - 작은 데이터셋을 사용할 때 모델이 쉽게 오버피팅될 수 있습니다.\n",
    "    \n",
    "    - 이미 학습된 파라미터를 동결하면 모델이 새로운 데이터에 맞춰 과도하게 학습되는 것을 방지할 수 있습니다.\n",
    "\n",
    "\n",
    "3. 전이 학습(Transfer Learning):\n",
    "    - 사전 학습된 모델(예: ImageNet 데이터셋으로 학습된 모델)의 초반 레이어는 일반적인 특징(예: 에지, 텍스처 등)을 잘 잡아냅니다.\n",
    "\n",
    "    - 이러한 특징을 이용하면 새로운 데이터셋에서도 좋은 성능을 낼 수 있습니다.\n",
    "\n",
    "    - 모델의 후반 레이어만 재학습하여 새로운 데이터셋에 맞출 수 있습니다.\n",
    "\n",
    "4. 더 빠른 수렴:\n",
    "    - 동결된 파라미터는 변화하지 않으므로 모델이 더 빠르게 수렴할 수 있습니다.\n",
    "    \n",
    "    - 이는 전체 학습 시간을 단축시키는 데 도움이 됩니다."
   ]
  },
  {
   "cell_type": "code",
   "execution_count": 10,
   "id": "da6f8ff3",
   "metadata": {
    "execution": {
     "iopub.execute_input": "2024-08-19T17:22:34.679609Z",
     "iopub.status.busy": "2024-08-19T17:22:34.678917Z",
     "iopub.status.idle": "2024-08-19T17:22:34.690657Z",
     "shell.execute_reply": "2024-08-19T17:22:34.689673Z"
    },
    "executionInfo": {
     "elapsed": 14,
     "status": "ok",
     "timestamp": 1724086544286,
     "user": {
      "displayName": "서현규",
      "userId": "09934118829180005969"
     },
     "user_tz": -540
    },
    "id": "-G9exyqkIKSY",
    "outputId": "e4ce7f56-eb5f-4fd6-c33a-69c8752cc342",
    "papermill": {
     "duration": 0.0264,
     "end_time": "2024-08-19T17:22:34.692820",
     "exception": false,
     "start_time": "2024-08-19T17:22:34.666420",
     "status": "completed"
    },
    "tags": []
   },
   "outputs": [
    {
     "name": "stdout",
     "output_type": "stream",
     "text": [
      "----------------------------------------------------------------\n",
      "        Layer (type)               Output Shape         Param #\n",
      "================================================================\n",
      "            Conv2d-1           [-1, 64, 32, 32]           1,792\n",
      "              ReLU-2           [-1, 64, 32, 32]               0\n",
      "            Conv2d-3           [-1, 64, 32, 32]          36,928\n",
      "              ReLU-4           [-1, 64, 32, 32]               0\n",
      "         MaxPool2d-5           [-1, 64, 16, 16]               0\n",
      "            Conv2d-6          [-1, 128, 16, 16]          73,856\n",
      "              ReLU-7          [-1, 128, 16, 16]               0\n",
      "            Conv2d-8          [-1, 128, 16, 16]         147,584\n",
      "              ReLU-9          [-1, 128, 16, 16]               0\n",
      "        MaxPool2d-10            [-1, 128, 8, 8]               0\n",
      "           Conv2d-11            [-1, 256, 8, 8]         295,168\n",
      "             ReLU-12            [-1, 256, 8, 8]               0\n",
      "           Conv2d-13            [-1, 256, 8, 8]         590,080\n",
      "             ReLU-14            [-1, 256, 8, 8]               0\n",
      "           Conv2d-15            [-1, 256, 8, 8]         590,080\n",
      "             ReLU-16            [-1, 256, 8, 8]               0\n",
      "        MaxPool2d-17            [-1, 256, 4, 4]               0\n",
      "           Conv2d-18            [-1, 512, 4, 4]       1,180,160\n",
      "             ReLU-19            [-1, 512, 4, 4]               0\n",
      "           Conv2d-20            [-1, 512, 4, 4]       2,359,808\n",
      "             ReLU-21            [-1, 512, 4, 4]               0\n",
      "           Conv2d-22            [-1, 512, 4, 4]       2,359,808\n",
      "             ReLU-23            [-1, 512, 4, 4]               0\n",
      "        MaxPool2d-24            [-1, 512, 2, 2]               0\n",
      "           Conv2d-25            [-1, 512, 2, 2]       2,359,808\n",
      "             ReLU-26            [-1, 512, 2, 2]               0\n",
      "           Conv2d-27            [-1, 512, 2, 2]       2,359,808\n",
      "             ReLU-28            [-1, 512, 2, 2]               0\n",
      "           Conv2d-29            [-1, 512, 2, 2]       2,359,808\n",
      "             ReLU-30            [-1, 512, 2, 2]               0\n",
      "        MaxPool2d-31            [-1, 512, 1, 1]               0\n",
      "AdaptiveAvgPool2d-32            [-1, 512, 1, 1]               0\n",
      "================================================================\n",
      "Total params: 14,714,688\n",
      "Trainable params: 7,079,424\n",
      "Non-trainable params: 7,635,264\n",
      "----------------------------------------------------------------\n",
      "Input size (MB): 0.01\n",
      "Forward/backward pass size (MB): 4.46\n",
      "Params size (MB): 56.13\n",
      "Estimated Total Size (MB): 60.60\n",
      "----------------------------------------------------------------\n"
     ]
    }
   ],
   "source": [
    "# 모델의 앞부분 파라미터 고정 (동결)\n",
    "for para in model[:-8].parameters():\n",
    "    para.requires_grad = False\n",
    "\n",
    "# 파라미터 동결 후 모델 요약 정보 출력\n",
    "summary_model(model)"
   ]
  },
  {
   "cell_type": "markdown",
   "id": "b99854c4",
   "metadata": {
    "id": "IyyHLbACIKSY",
    "papermill": {
     "duration": 0.01125,
     "end_time": "2024-08-19T17:22:34.715802",
     "exception": false,
     "start_time": "2024-08-19T17:22:34.704552",
     "status": "completed"
    },
    "tags": []
   },
   "source": [
    "## **(3) VGG16 분류기를 만들기**"
   ]
  },
  {
   "cell_type": "code",
   "execution_count": 11,
   "id": "a203e8fb",
   "metadata": {
    "execution": {
     "iopub.execute_input": "2024-08-19T17:22:34.740503Z",
     "iopub.status.busy": "2024-08-19T17:22:34.739830Z",
     "iopub.status.idle": "2024-08-19T17:22:34.788020Z",
     "shell.execute_reply": "2024-08-19T17:22:34.787099Z"
    },
    "executionInfo": {
     "elapsed": 334,
     "status": "ok",
     "timestamp": 1724086988878,
     "user": {
      "displayName": "서현규",
      "userId": "09934118829180005969"
     },
     "user_tz": -540
    },
    "id": "sezr88NfIKSY",
    "outputId": "08261924-541e-461e-b76b-d36c353ebec5",
    "papermill": {
     "duration": 0.063062,
     "end_time": "2024-08-19T17:22:34.790396",
     "exception": false,
     "start_time": "2024-08-19T17:22:34.727334",
     "status": "completed"
    },
    "tags": []
   },
   "outputs": [
    {
     "name": "stdout",
     "output_type": "stream",
     "text": [
      "----------------------------------------------------------------\n",
      "        Layer (type)               Output Shape         Param #\n",
      "================================================================\n",
      "            Conv2d-1           [-1, 64, 32, 32]           1,792\n",
      "              ReLU-2           [-1, 64, 32, 32]               0\n",
      "            Conv2d-3           [-1, 64, 32, 32]          36,928\n",
      "              ReLU-4           [-1, 64, 32, 32]               0\n",
      "         MaxPool2d-5           [-1, 64, 16, 16]               0\n",
      "            Conv2d-6          [-1, 128, 16, 16]          73,856\n",
      "              ReLU-7          [-1, 128, 16, 16]               0\n",
      "            Conv2d-8          [-1, 128, 16, 16]         147,584\n",
      "              ReLU-9          [-1, 128, 16, 16]               0\n",
      "        MaxPool2d-10            [-1, 128, 8, 8]               0\n",
      "           Conv2d-11            [-1, 256, 8, 8]         295,168\n",
      "             ReLU-12            [-1, 256, 8, 8]               0\n",
      "           Conv2d-13            [-1, 256, 8, 8]         590,080\n",
      "             ReLU-14            [-1, 256, 8, 8]               0\n",
      "           Conv2d-15            [-1, 256, 8, 8]         590,080\n",
      "             ReLU-16            [-1, 256, 8, 8]               0\n",
      "        MaxPool2d-17            [-1, 256, 4, 4]               0\n",
      "           Conv2d-18            [-1, 512, 4, 4]       1,180,160\n",
      "             ReLU-19            [-1, 512, 4, 4]               0\n",
      "           Conv2d-20            [-1, 512, 4, 4]       2,359,808\n",
      "             ReLU-21            [-1, 512, 4, 4]               0\n",
      "           Conv2d-22            [-1, 512, 4, 4]       2,359,808\n",
      "             ReLU-23            [-1, 512, 4, 4]               0\n",
      "        MaxPool2d-24            [-1, 512, 2, 2]               0\n",
      "           Conv2d-25            [-1, 512, 2, 2]       2,359,808\n",
      "             ReLU-26            [-1, 512, 2, 2]               0\n",
      "           Conv2d-27            [-1, 512, 2, 2]       2,359,808\n",
      "             ReLU-28            [-1, 512, 2, 2]               0\n",
      "           Conv2d-29            [-1, 512, 2, 2]       2,359,808\n",
      "             ReLU-30            [-1, 512, 2, 2]               0\n",
      "        MaxPool2d-31            [-1, 512, 1, 1]               0\n",
      "AdaptiveAvgPool2d-32            [-1, 512, 1, 1]               0\n",
      "          Flatten-33                  [-1, 512]               0\n",
      "           Linear-34                   [-1, 64]          32,832\n",
      "             ReLU-35                   [-1, 64]               0\n",
      "           Linear-36                   [-1, 25]           1,625\n",
      "================================================================\n",
      "Total params: 14,749,145\n",
      "Trainable params: 7,113,881\n",
      "Non-trainable params: 7,635,264\n",
      "----------------------------------------------------------------\n",
      "Input size (MB): 0.01\n",
      "Forward/backward pass size (MB): 4.47\n",
      "Params size (MB): 56.26\n",
      "Estimated Total Size (MB): 60.74\n",
      "----------------------------------------------------------------\n"
     ]
    }
   ],
   "source": [
    "# (4-1) 새로운 분류기 정의\n",
    "classifier = nn.Sequential(nn.Flatten(),\n",
    "                           nn.Linear(512, 64),\n",
    "                           nn.ReLU(),\n",
    "                           nn.Linear(64,25)\n",
    "\n",
    "    # 25개의 클래스로 분류\n",
    ")\n",
    "\n",
    "# (4-2) 모델에 새로운 분류기 추가\n",
    "model.classifier = classifier\n",
    "\n",
    "# 모델을 장치로 이동\n",
    "model = model.to(device)\n",
    "\n",
    "# 최종 모델 요약 정보 출력\n",
    "summary_model(model)"
   ]
  },
  {
   "cell_type": "markdown",
   "id": "b92760a9",
   "metadata": {
    "id": "uUXytopHIKSY",
    "papermill": {
     "duration": 0.012125,
     "end_time": "2024-08-19T17:22:34.814612",
     "exception": false,
     "start_time": "2024-08-19T17:22:34.802487",
     "status": "completed"
    },
    "tags": []
   },
   "source": [
    "# **3. 학습**"
   ]
  },
  {
   "cell_type": "code",
   "execution_count": 12,
   "id": "6cfab4d8",
   "metadata": {
    "execution": {
     "iopub.execute_input": "2024-08-19T17:22:34.839506Z",
     "iopub.status.busy": "2024-08-19T17:22:34.838848Z",
     "iopub.status.idle": "2024-08-19T17:22:34.843951Z",
     "shell.execute_reply": "2024-08-19T17:22:34.843117Z"
    },
    "executionInfo": {
     "elapsed": 317,
     "status": "ok",
     "timestamp": 1724086993194,
     "user": {
      "displayName": "서현규",
      "userId": "09934118829180005969"
     },
     "user_tz": -540
    },
    "id": "M_byDK7tIKSZ",
    "outputId": "2fa1b1d6-7c4b-4df3-d8f1-d8a437794d3d",
    "papermill": {
     "duration": 0.020317,
     "end_time": "2024-08-19T17:22:34.846413",
     "exception": false,
     "start_time": "2024-08-19T17:22:34.826096",
     "status": "completed"
    },
    "tags": []
   },
   "outputs": [
    {
     "name": "stdout",
     "output_type": "stream",
     "text": [
      "ImageClassification(\n",
      "    crop_size=[224]\n",
      "    resize_size=[32]\n",
      "    mean=[0.485, 0.456, 0.406]\n",
      "    std=[0.229, 0.224, 0.225]\n",
      "    interpolation=InterpolationMode.BILINEAR\n",
      ")\n"
     ]
    }
   ],
   "source": [
    "# VGG16에서 사용한 transform을 이용\n",
    "transform = VGG16_Weights.DEFAULT.transforms(antialias=False)\n",
    "\n",
    "# resize 크기는 32가 되도록 설정\n",
    "transform.resize_size=[32]\n",
    "\n",
    "# transform 확인하기\n",
    "print(transform)"
   ]
  },
  {
   "cell_type": "code",
   "execution_count": 13,
   "id": "1971e0b6",
   "metadata": {
    "execution": {
     "iopub.execute_input": "2024-08-19T17:22:34.872737Z",
     "iopub.status.busy": "2024-08-19T17:22:34.872014Z",
     "iopub.status.idle": "2024-08-19T17:48:19.514688Z",
     "shell.execute_reply": "2024-08-19T17:48:19.513624Z"
    },
    "executionInfo": {
     "elapsed": 805222,
     "status": "ok",
     "timestamp": 1724087799541,
     "user": {
      "displayName": "서현규",
      "userId": "09934118829180005969"
     },
     "user_tz": -540
    },
    "id": "Dt7BOdI2IKSZ",
    "outputId": "1ff96d13-8440-4eb3-f7b9-3b403eaae655",
    "papermill": {
     "duration": 1544.658674,
     "end_time": "2024-08-19T17:48:19.516850",
     "exception": false,
     "start_time": "2024-08-19T17:22:34.858176",
     "status": "completed"
    },
    "tags": []
   },
   "outputs": [
    {
     "name": "stdout",
     "output_type": "stream",
     "text": [
      "Epoch 1/10\n"
     ]
    },
    {
     "name": "stderr",
     "output_type": "stream",
     "text": [
      "100%|██████████| 429/429 [02:30<00:00,  2.85it/s]\n"
     ]
    },
    {
     "name": "stdout",
     "output_type": "stream",
     "text": [
      "CheckPoint : model_state_dict_epoch_1.pth\n",
      "train_loss : 1.7390180426738757, train_acc : 0.5259641978391978\n",
      "\n",
      "Epoch 2/10\n"
     ]
    },
    {
     "name": "stderr",
     "output_type": "stream",
     "text": [
      "100%|██████████| 429/429 [02:34<00:00,  2.78it/s]\n"
     ]
    },
    {
     "name": "stdout",
     "output_type": "stream",
     "text": [
      "CheckPoint : model_state_dict_epoch_2.pth\n",
      "train_loss : 0.32881880443899225, train_acc : 0.9233671421171421\n",
      "\n",
      "Epoch 3/10\n"
     ]
    },
    {
     "name": "stderr",
     "output_type": "stream",
     "text": [
      "100%|██████████| 429/429 [02:34<00:00,  2.77it/s]\n"
     ]
    },
    {
     "name": "stdout",
     "output_type": "stream",
     "text": [
      "CheckPoint : model_state_dict_epoch_3.pth\n",
      "train_loss : 0.12239434649529574, train_acc : 0.9796037296037297\n",
      "\n",
      "Epoch 4/10\n"
     ]
    },
    {
     "name": "stderr",
     "output_type": "stream",
     "text": [
      "100%|██████████| 429/429 [02:34<00:00,  2.77it/s]\n"
     ]
    },
    {
     "name": "stdout",
     "output_type": "stream",
     "text": [
      "CheckPoint : model_state_dict_epoch_4.pth\n",
      "train_loss : 0.06381677137579257, train_acc : 0.9904210372960373\n",
      "\n",
      "Epoch 5/10\n"
     ]
    },
    {
     "name": "stderr",
     "output_type": "stream",
     "text": [
      "100%|██████████| 429/429 [02:34<00:00,  2.77it/s]\n"
     ]
    },
    {
     "name": "stdout",
     "output_type": "stream",
     "text": [
      "CheckPoint : model_state_dict_epoch_5.pth\n",
      "train_loss : 0.032993879805303813, train_acc : 0.9961028554778555\n",
      "\n",
      "Epoch 6/10\n"
     ]
    },
    {
     "name": "stderr",
     "output_type": "stream",
     "text": [
      "100%|██████████| 429/429 [02:34<00:00,  2.77it/s]\n"
     ]
    },
    {
     "name": "stdout",
     "output_type": "stream",
     "text": [
      "CheckPoint : model_state_dict_epoch_6.pth\n",
      "train_loss : 0.0270985746680214, train_acc : 0.9961392773892774\n",
      "\n",
      "Epoch 7/10\n"
     ]
    },
    {
     "name": "stderr",
     "output_type": "stream",
     "text": [
      "100%|██████████| 429/429 [02:34<00:00,  2.77it/s]\n"
     ]
    },
    {
     "name": "stdout",
     "output_type": "stream",
     "text": [
      "CheckPoint : model_state_dict_epoch_7.pth\n",
      "train_loss : 0.012903438121762065, train_acc : 0.9993444055944056\n",
      "\n",
      "Epoch 8/10\n"
     ]
    },
    {
     "name": "stderr",
     "output_type": "stream",
     "text": [
      "100%|██████████| 429/429 [02:35<00:00,  2.77it/s]\n"
     ]
    },
    {
     "name": "stdout",
     "output_type": "stream",
     "text": [
      "CheckPoint : model_state_dict_epoch_8.pth\n",
      "train_loss : 0.008188029236674726, train_acc : 0.9998907342657343\n",
      "\n",
      "Epoch 9/10\n"
     ]
    },
    {
     "name": "stderr",
     "output_type": "stream",
     "text": [
      "100%|██████████| 429/429 [02:34<00:00,  2.77it/s]\n"
     ]
    },
    {
     "name": "stdout",
     "output_type": "stream",
     "text": [
      "CheckPoint : model_state_dict_epoch_9.pth\n",
      "train_loss : 0.008413941612996873, train_acc : 0.9992715617715617\n",
      "\n",
      "Epoch 10/10\n"
     ]
    },
    {
     "name": "stderr",
     "output_type": "stream",
     "text": [
      "100%|██████████| 429/429 [02:35<00:00,  2.76it/s]"
     ]
    },
    {
     "name": "stdout",
     "output_type": "stream",
     "text": [
      "CheckPoint : model_state_dict_epoch_10.pth\n",
      "train_loss : 0.015316524575431863, train_acc : 0.9966127622377622\n",
      "\n"
     ]
    },
    {
     "name": "stderr",
     "output_type": "stream",
     "text": [
      "\n"
     ]
    }
   ],
   "source": [
    "def train(train_dataloader, model, device, args):\n",
    "    \"\"\"\n",
    "    주어진 데이터로 모델을 학습시키는 함수입니다.\n",
    "\n",
    "    Args:\n",
    "        train_dataloader (DataLoader): 학습 데이터를 제공하는 DataLoader 객체\n",
    "        valid_dataloader (DataLoader): 검증 데이터를 제공하는 DataLoader 객체\n",
    "        model (torch.nn.Module): 학습할 모델\n",
    "        device (torch.device): 사용할 디바이스 (CPU 또는 GPU)\n",
    "        args (dict): 학습 관련 인자들을 포함한 딕셔너리\n",
    "\n",
    "    Returns:\n",
    "        None\n",
    "    \"\"\"\n",
    "\n",
    "    # (5-1) Adam 옵티마이저와 교차 엔트로피 손실 함수 정의\n",
    "    optimizer = torch.optim.Adam(model.parameters(), args['lr'])\n",
    "    loss_fn = nn.CrossEntropyLoss()\n",
    "\n",
    "    model.zero_grad()  # 모델의 그래디언트 초기화\n",
    "\n",
    "    for epoch in range(args[\"epochs\"]):\n",
    "        model.train()       # 모델을 훈련 모드로 설정\n",
    "\n",
    "        total_loss = 0      # 전체 손실 초기화\n",
    "        total_accuracy = 0  # 전체 정확도 초기화\n",
    "\n",
    "        print(f'Epoch {epoch + 1}/{args[\"epochs\"]}')\n",
    "\n",
    "        for image, label in tqdm(train_dataloader):\n",
    "            image = transform(image).to(device)\n",
    "            label = label.to(device)\n",
    "\n",
    "            # (5-2) 모델을 사용하여 예측 수행\n",
    "            pred = model(image)\n",
    "\n",
    "            # (5-3) 손실 계산 및 누적\n",
    "            loss = loss_fn(pred, label)\n",
    "\n",
    "            # (5-4) 역전파를 통해 기울기 계산\n",
    "            loss.backward()\n",
    "\n",
    "            # (5-5) 파라미터 업데이트\n",
    "            optimizer.step()\n",
    "\n",
    "            # (5-6) 모델의 그래디언트 초기화\n",
    "            optimizer.zero_grad()\n",
    "\n",
    "            # loss 계산\n",
    "            total_loss += loss.item()\n",
    "\n",
    "            # accaracy 계산\n",
    "            label = label.cpu()\n",
    "            pred = pred.argmax(dim = 1).cpu()\n",
    "            accuracy = accuracy_score(label, pred)\n",
    "            total_accuracy += accuracy\n",
    "\n",
    "        # 평균 손실과 정확도 계산\n",
    "        avg_loss = total_loss / len(train_dataloader)\n",
    "        avg_accuracy = total_accuracy / len(train_dataloader)\n",
    "\n",
    "        # 모델 체크포인트 저장\n",
    "        #os.makedirs(\"results\", exist_ok=True)\n",
    "        #torch.save({\n",
    "            #'epoch': epoch,\n",
    "            #'model': model,\n",
    "            #'model_state_dict': model.state_dict(),\n",
    "           #'optimizer_state_dict': optimizer.state_dict(),\n",
    "            #'loss': loss.item,\n",
    "            #}, f'./results/model_state_dict_epoch_{epoch+1}.pth')\n",
    "\n",
    "        # 현재 에포크의 손실과 정확도 출력\n",
    "        print(f'CheckPoint : model_state_dict_epoch_{epoch+1}.pth')\n",
    "        print(f'train_loss : {avg_loss}, train_acc : {avg_accuracy}\\n')\n",
    "\n",
    "\n",
    "if __name__ == \"__main__\":\n",
    "    train(train_dataloader, model, device, args)"
   ]
  },
  {
   "cell_type": "markdown",
   "id": "1cde6763",
   "metadata": {
    "id": "FhhR17qIIKSZ",
    "papermill": {
     "duration": 0.342302,
     "end_time": "2024-08-19T17:48:20.204896",
     "exception": false,
     "start_time": "2024-08-19T17:48:19.862594",
     "status": "completed"
    },
    "tags": []
   },
   "source": [
    "# **4. 평가**"
   ]
  },
  {
   "cell_type": "code",
   "execution_count": 14,
   "id": "76b5007c",
   "metadata": {
    "execution": {
     "iopub.execute_input": "2024-08-19T17:48:20.902833Z",
     "iopub.status.busy": "2024-08-19T17:48:20.902005Z",
     "iopub.status.idle": "2024-08-19T17:49:17.944230Z",
     "shell.execute_reply": "2024-08-19T17:49:17.942348Z"
    },
    "executionInfo": {
     "elapsed": 56065,
     "status": "ok",
     "timestamp": 1724087875918,
     "user": {
      "displayName": "서현규",
      "userId": "09934118829180005969"
     },
     "user_tz": -540
    },
    "id": "zw9EILD1IKSZ",
    "outputId": "4fe9da64-0102-493d-ffec-f6106d5a5ca3",
    "papermill": {
     "duration": 57.391588,
     "end_time": "2024-08-19T17:49:17.946720",
     "exception": false,
     "start_time": "2024-08-19T17:48:20.555132",
     "status": "completed"
    },
    "tags": []
   },
   "outputs": [
    {
     "name": "stderr",
     "output_type": "stream",
     "text": [
      "100%|██████████| 7172/7172 [00:57<00:00, 125.76it/s]\n"
     ]
    }
   ],
   "source": [
    "def test(test_dataloader, model, device):\n",
    "    \"\"\"\n",
    "    모델의 테스트를 수행하는 함수입니다.\n",
    "\n",
    "    Args:\n",
    "        test_dataloader (DataLoader): 테스트 데이터를 제공하는 DataLoader 객체\n",
    "        model (torch.nn.Module): 평가할 모델\n",
    "        device (torch.device): 사용할 디바이스 (CPU 또는 GPU)\n",
    "\n",
    "    Returns:\n",
    "        preds (list): 각 입력 예시에 대한 모델의 예측 결과 리스트\n",
    "    \"\"\"\n",
    "    model.eval()    # 모델을 평가 모드로 설정\n",
    "    preds = []      # 예측 결과를 저장할 리스트\n",
    "\n",
    "    # 각 배치에 대해 예측 수행\n",
    "    for image in tqdm(test_dataloader):\n",
    "        image = transform(image[0]).to(device)\n",
    "\n",
    "        # 기울기 계산을 비활성화하여 예측 수행\n",
    "        with torch.no_grad():\n",
    "            # (6-1) 모델에 입력을 전달하여 예측 수행\n",
    "            output = model(image)\n",
    "\n",
    "            # (6-2) argmax를 이용하여 예측 결과에서 가장 높은 값의 인덱스를 선택\n",
    "            max_index = torch.argmax(output)\n",
    "\n",
    "            # (6-3) 예측 결과를 CPU로 이동\n",
    "            result = max_index.cpu()\n",
    "\n",
    "            # (6-4) 예측을 numpy 배열로 변환\n",
    "            result = np.array(result)\n",
    "\n",
    "            # (6-5) 예측 결과를 리스트에 추가\n",
    "            preds.append(result)\n",
    "\n",
    "    return preds\n",
    "\n",
    "\n",
    "if __name__ == \"__main__\":\n",
    "    # 예측값을 얻기 위해 test 함수 호출\n",
    "    preds = test(test_dataloader, model, device)"
   ]
  },
  {
   "cell_type": "code",
   "execution_count": 15,
   "id": "dcda6c68",
   "metadata": {
    "execution": {
     "iopub.execute_input": "2024-08-19T17:49:18.734649Z",
     "iopub.status.busy": "2024-08-19T17:49:18.733813Z",
     "iopub.status.idle": "2024-08-19T17:49:18.792516Z",
     "shell.execute_reply": "2024-08-19T17:49:18.791730Z"
    },
    "executionInfo": {
     "elapsed": 350,
     "status": "ok",
     "timestamp": 1724087876267,
     "user": {
      "displayName": "서현규",
      "userId": "09934118829180005969"
     },
     "user_tz": -540
    },
    "id": "NcFl88lfIKSZ",
    "papermill": {
     "duration": 0.451931,
     "end_time": "2024-08-19T17:49:18.794682",
     "exception": false,
     "start_time": "2024-08-19T17:49:18.342751",
     "status": "completed"
    },
    "tags": []
   },
   "outputs": [],
   "source": [
    "submit = pd.read_csv(args[\"submit_path\"])\n",
    "submit[\"label\"] = preds\n",
    "submit.to_csv(\"submission_p1.csv\", index = False)"
   ]
  },
  {
   "cell_type": "code",
   "execution_count": 16,
   "id": "37bb2ae9",
   "metadata": {
    "execution": {
     "iopub.execute_input": "2024-08-19T17:49:19.574993Z",
     "iopub.status.busy": "2024-08-19T17:49:19.574628Z",
     "iopub.status.idle": "2024-08-19T17:49:19.592010Z",
     "shell.execute_reply": "2024-08-19T17:49:19.591149Z"
    },
    "executionInfo": {
     "elapsed": 7,
     "status": "ok",
     "timestamp": 1724087876268,
     "user": {
      "displayName": "서현규",
      "userId": "09934118829180005969"
     },
     "user_tz": -540
    },
    "id": "BMzhJZrWIKSZ",
    "outputId": "4cbfe340-a102-458d-9b85-b453fa399502",
    "papermill": {
     "duration": 0.410302,
     "end_time": "2024-08-19T17:49:19.594093",
     "exception": false,
     "start_time": "2024-08-19T17:49:19.183791",
     "status": "completed"
    },
    "tags": []
   },
   "outputs": [
    {
     "data": {
      "text/html": [
       "<div>\n",
       "<style scoped>\n",
       "    .dataframe tbody tr th:only-of-type {\n",
       "        vertical-align: middle;\n",
       "    }\n",
       "\n",
       "    .dataframe tbody tr th {\n",
       "        vertical-align: top;\n",
       "    }\n",
       "\n",
       "    .dataframe thead th {\n",
       "        text-align: right;\n",
       "    }\n",
       "</style>\n",
       "<table border=\"1\" class=\"dataframe\">\n",
       "  <thead>\n",
       "    <tr style=\"text-align: right;\">\n",
       "      <th></th>\n",
       "      <th>id</th>\n",
       "      <th>label</th>\n",
       "    </tr>\n",
       "  </thead>\n",
       "  <tbody>\n",
       "    <tr>\n",
       "      <th>0</th>\n",
       "      <td>0</td>\n",
       "      <td>6</td>\n",
       "    </tr>\n",
       "    <tr>\n",
       "      <th>1</th>\n",
       "      <td>1</td>\n",
       "      <td>5</td>\n",
       "    </tr>\n",
       "    <tr>\n",
       "      <th>2</th>\n",
       "      <td>2</td>\n",
       "      <td>10</td>\n",
       "    </tr>\n",
       "    <tr>\n",
       "      <th>3</th>\n",
       "      <td>3</td>\n",
       "      <td>0</td>\n",
       "    </tr>\n",
       "    <tr>\n",
       "      <th>4</th>\n",
       "      <td>4</td>\n",
       "      <td>3</td>\n",
       "    </tr>\n",
       "    <tr>\n",
       "      <th>...</th>\n",
       "      <td>...</td>\n",
       "      <td>...</td>\n",
       "    </tr>\n",
       "    <tr>\n",
       "      <th>7167</th>\n",
       "      <td>7167</td>\n",
       "      <td>1</td>\n",
       "    </tr>\n",
       "    <tr>\n",
       "      <th>7168</th>\n",
       "      <td>7168</td>\n",
       "      <td>18</td>\n",
       "    </tr>\n",
       "    <tr>\n",
       "      <th>7169</th>\n",
       "      <td>7169</td>\n",
       "      <td>2</td>\n",
       "    </tr>\n",
       "    <tr>\n",
       "      <th>7170</th>\n",
       "      <td>7170</td>\n",
       "      <td>4</td>\n",
       "    </tr>\n",
       "    <tr>\n",
       "      <th>7171</th>\n",
       "      <td>7171</td>\n",
       "      <td>2</td>\n",
       "    </tr>\n",
       "  </tbody>\n",
       "</table>\n",
       "<p>7172 rows × 2 columns</p>\n",
       "</div>"
      ],
      "text/plain": [
       "        id label\n",
       "0        0     6\n",
       "1        1     5\n",
       "2        2    10\n",
       "3        3     0\n",
       "4        4     3\n",
       "...    ...   ...\n",
       "7167  7167     1\n",
       "7168  7168    18\n",
       "7169  7169     2\n",
       "7170  7170     4\n",
       "7171  7171     2\n",
       "\n",
       "[7172 rows x 2 columns]"
      ]
     },
     "execution_count": 16,
     "metadata": {},
     "output_type": "execute_result"
    }
   ],
   "source": [
    "submit"
   ]
  }
 ],
 "metadata": {
  "accelerator": "GPU",
  "colab": {
   "gpuType": "T4",
   "provenance": []
  },
  "kaggle": {
   "accelerator": "nvidiaTeslaT4",
   "dataSources": [
    {
     "databundleVersionId": 9016062,
     "sourceId": 82514,
     "sourceType": "competition"
    }
   ],
   "isGpuEnabled": true,
   "isInternetEnabled": true,
   "language": "python",
   "sourceType": "notebook"
  },
  "kernelspec": {
   "display_name": "Python 3",
   "name": "python3"
  },
  "language_info": {
   "codemirror_mode": {
    "name": "ipython",
    "version": 3
   },
   "file_extension": ".py",
   "mimetype": "text/x-python",
   "name": "python",
   "nbconvert_exporter": "python",
   "pygments_lexer": "ipython3",
   "version": "3.10.13"
  },
  "papermill": {
   "default_parameters": {},
   "duration": 1647.205816,
   "end_time": "2024-08-19T17:49:22.422792",
   "environment_variables": {},
   "exception": null,
   "input_path": "__notebook__.ipynb",
   "output_path": "__notebook__.ipynb",
   "parameters": {},
   "start_time": "2024-08-19T17:21:55.216976",
   "version": "2.5.0"
  }
 },
 "nbformat": 4,
 "nbformat_minor": 5
}
